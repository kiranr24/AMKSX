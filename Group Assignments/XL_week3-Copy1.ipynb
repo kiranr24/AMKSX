{
 "cells": [
  {
   "cell_type": "code",
   "execution_count": 1,
   "id": "26b9a233-b626-4c89-b250-8146139d32a3",
   "metadata": {},
   "outputs": [],
   "source": [
    "### Week 3 Assignment \n",
    "## Programmer's name: Xander Lee\n",
    "## Los Angeles County data containing info on educational level and Service Planning Areas (SPAs)\n",
    "## will be pulled and ran through several commands to conduct census data exploration in order to \n",
    "## produce bar charts and maps."
   ]
  },
  {
   "cell_type": "code",
   "execution_count": 2,
   "id": "ebc5272d-b0cb-4305-9b61-631c99890458",
   "metadata": {},
   "outputs": [],
   "source": [
    "#importing pandas\n",
    "import pandas as pd\n",
    "import geopandas as gpd"
   ]
  },
  {
   "cell_type": "code",
   "execution_count": 3,
   "id": "4498388d-9915-4933-b203-e5ee30c5942a",
   "metadata": {},
   "outputs": [],
   "source": [
    "#read data file\n",
    "df = pd.read_csv('data/R13563591_SL140.csv')"
   ]
  },
  {
   "cell_type": "code",
   "execution_count": 4,
   "id": "f36f2ae4-bbe3-4f76-b860-1ab3439516ba",
   "metadata": {},
   "outputs": [
    {
     "data": {
      "text/plain": [
       "(2498, 64)"
      ]
     },
     "execution_count": 4,
     "metadata": {},
     "output_type": "execute_result"
    }
   ],
   "source": [
    "#look at the shape\n",
    "df.shape"
   ]
  },
  {
   "cell_type": "code",
   "execution_count": 9,
   "id": "574707bc-350a-41a7-b614-3c8abf13e12b",
   "metadata": {},
   "outputs": [],
   "source": [
    "#quick inspection\n",
    "df = pd.read_csv(\n",
    "    'data/R13563591_SL140.csv',\n",
    "    dtype=\n",
    "    {\n",
    "        'Geo_FIPS':str,\n",
    "        'Geo_STATE':str,\n",
    "        'Geo_COUNTY': str,\n",
    "        'Geo_GEOCOMP': str,\n",
    "    \n",
    "    }\n",
    ")"
   ]
  },
  {
   "cell_type": "code",
   "execution_count": 10,
   "id": "f0ab56ef-bef0-4bf8-9b7c-fccc718885b4",
   "metadata": {},
   "outputs": [
    {
     "name": "stdout",
     "output_type": "stream",
     "text": [
      "<class 'pandas.core.frame.DataFrame'>\n",
      "RangeIndex: 2498 entries, 0 to 2497\n",
      "Data columns (total 64 columns):\n",
      " #   Column             Non-Null Count  Dtype  \n",
      "---  ------             --------------  -----  \n",
      " 0   Geo_FIPS           2498 non-null   object \n",
      " 1   Geo_QName          2498 non-null   object \n",
      " 2   Geo_STUSAB         2498 non-null   object \n",
      " 3   Geo_SUMLEV         2498 non-null   int64  \n",
      " 4   Geo_GEOCOMP        2498 non-null   object \n",
      " 5   Geo_US             0 non-null      float64\n",
      " 6   Geo_REGION         0 non-null      float64\n",
      " 7   Geo_DIVISION       0 non-null      float64\n",
      " 8   Geo_STATE          2498 non-null   object \n",
      " 9   Geo_COUNTY         2498 non-null   object \n",
      " 10  Geo_COUSUB         0 non-null      float64\n",
      " 11  Geo_PLACE          0 non-null      float64\n",
      " 12  Geo_TRACT          2498 non-null   int64  \n",
      " 13  Geo_BLKGRP         0 non-null      float64\n",
      " 14  Geo_CONCIT         0 non-null      float64\n",
      " 15  Geo_AIANHH         0 non-null      float64\n",
      " 16  Geo_AIANHHFP       0 non-null      float64\n",
      " 17  Geo_AIHHTLI        0 non-null      float64\n",
      " 18  Geo_AITS           0 non-null      float64\n",
      " 19  Geo_ANRC           0 non-null      float64\n",
      " 20  Geo_CBSA           0 non-null      float64\n",
      " 21  Geo_CSA            0 non-null      float64\n",
      " 22  Geo_METDIV         0 non-null      float64\n",
      " 23  Geo_MACC           0 non-null      float64\n",
      " 24  Geo_MEMI           0 non-null      float64\n",
      " 25  Geo_NECTA          0 non-null      float64\n",
      " 26  Geo_CNECTA         0 non-null      float64\n",
      " 27  Geo_NECTADIV       0 non-null      float64\n",
      " 28  Geo_UA             0 non-null      float64\n",
      " 29  Geo_CDCURR         0 non-null      float64\n",
      " 30  Geo_SLDU           0 non-null      float64\n",
      " 31  Geo_SLDL           0 non-null      float64\n",
      " 32  Geo_ZCTA3          0 non-null      float64\n",
      " 33  Geo_ZCTA5          0 non-null      float64\n",
      " 34  Geo_SUBMCD         0 non-null      float64\n",
      " 35  Geo_SDELM          0 non-null      float64\n",
      " 36  Geo_SDSEC          0 non-null      float64\n",
      " 37  Geo_SDUNI          0 non-null      float64\n",
      " 38  Geo_UR             0 non-null      float64\n",
      " 39  Geo_PCI            0 non-null      float64\n",
      " 40  Geo_PUMA5          0 non-null      float64\n",
      " 41  Geo_NAME           2498 non-null   object \n",
      " 42  Geo_BTTR           0 non-null      float64\n",
      " 43  Geo_BTBG           0 non-null      float64\n",
      " 44  Geo_PLACESE        0 non-null      float64\n",
      " 45  SE_A09005_001      2498 non-null   int64  \n",
      " 46  SE_A09005_002      2498 non-null   int64  \n",
      " 47  SE_A09005_009      2498 non-null   int64  \n",
      " 48  SE_A09005_010      2498 non-null   int64  \n",
      " 49  SE_A09005_003      2498 non-null   int64  \n",
      " 50  SE_A09005_004      2498 non-null   int64  \n",
      " 51  SE_A09005_005      2498 non-null   int64  \n",
      " 52  SE_A09005_006      2498 non-null   int64  \n",
      " 53  SE_A09005_007      2498 non-null   int64  \n",
      " 54  SE_A09005_008      2498 non-null   int64  \n",
      " 55  PCT_SE_A09005_002  2471 non-null   float64\n",
      " 56  PCT_SE_A09005_009  2471 non-null   float64\n",
      " 57  PCT_SE_A09005_010  2471 non-null   float64\n",
      " 58  PCT_SE_A09005_003  2471 non-null   float64\n",
      " 59  PCT_SE_A09005_004  2471 non-null   float64\n",
      " 60  PCT_SE_A09005_005  2471 non-null   float64\n",
      " 61  PCT_SE_A09005_006  2471 non-null   float64\n",
      " 62  PCT_SE_A09005_007  2471 non-null   float64\n",
      " 63  PCT_SE_A09005_008  2471 non-null   float64\n",
      "dtypes: float64(45), int64(12), object(7)\n",
      "memory usage: 1.2+ MB\n"
     ]
    }
   ],
   "source": [
    "# look at the data types, verbose = True shows us all the counts\n",
    "df.info(verbose=True, show_counts=True)"
   ]
  },
  {
   "cell_type": "code",
   "execution_count": 11,
   "id": "55513afb-411a-46ad-a8f9-bb7128ef6497",
   "metadata": {},
   "outputs": [
    {
     "data": {
      "text/plain": [
       "<bound method NDFrame.sample of          Geo_FIPS                                          Geo_QName  \\\n",
       "0     06037101110  Census Tract 1011.10, Los Angeles County, Cali...   \n",
       "1     06037101122  Census Tract 1011.22, Los Angeles County, Cali...   \n",
       "2     06037101220  Census Tract 1012.20, Los Angeles County, Cali...   \n",
       "3     06037101221  Census Tract 1012.21, Los Angeles County, Cali...   \n",
       "4     06037101222  Census Tract 1012.22, Los Angeles County, Cali...   \n",
       "...           ...                                                ...   \n",
       "2493  06037980038  Census Tract 9800.38, Los Angeles County, Cali...   \n",
       "2494  06037980039  Census Tract 9800.39, Los Angeles County, Cali...   \n",
       "2495  06037990100  Census Tract 9901, Los Angeles County, California   \n",
       "2496  06037990200  Census Tract 9902, Los Angeles County, California   \n",
       "2497  06037990300  Census Tract 9903, Los Angeles County, California   \n",
       "\n",
       "     Geo_STUSAB  Geo_SUMLEV Geo_GEOCOMP  Geo_US  Geo_REGION  Geo_DIVISION  \\\n",
       "0            ca         140          00     NaN         NaN           NaN   \n",
       "1            ca         140          00     NaN         NaN           NaN   \n",
       "2            ca         140          00     NaN         NaN           NaN   \n",
       "3            ca         140          00     NaN         NaN           NaN   \n",
       "4            ca         140          00     NaN         NaN           NaN   \n",
       "...         ...         ...         ...     ...         ...           ...   \n",
       "2493         ca         140          00     NaN         NaN           NaN   \n",
       "2494         ca         140          00     NaN         NaN           NaN   \n",
       "2495         ca         140          00     NaN         NaN           NaN   \n",
       "2496         ca         140          00     NaN         NaN           NaN   \n",
       "2497         ca         140          00     NaN         NaN           NaN   \n",
       "\n",
       "     Geo_STATE Geo_COUNTY  ...  SE_A09005_008  PCT_SE_A09005_002  \\\n",
       "0           06        037  ...            106              90.94   \n",
       "1           06        037  ...            336              78.60   \n",
       "2           06        037  ...            115              79.10   \n",
       "3           06        037  ...             23              88.59   \n",
       "4           06        037  ...             26              87.96   \n",
       "...        ...        ...  ...            ...                ...   \n",
       "2493        06        037  ...              0                NaN   \n",
       "2494        06        037  ...              0                NaN   \n",
       "2495        06        037  ...              0                NaN   \n",
       "2496        06        037  ...              0                NaN   \n",
       "2497        06        037  ...              0                NaN   \n",
       "\n",
       "      PCT_SE_A09005_009  PCT_SE_A09005_010  PCT_SE_A09005_003  \\\n",
       "0                 83.80               7.15               2.40   \n",
       "1                 72.49               6.11               0.84   \n",
       "2                 73.81               5.29               5.47   \n",
       "3                 76.28              12.32               2.67   \n",
       "4                 85.34               2.62               3.26   \n",
       "...                 ...                ...                ...   \n",
       "2493                NaN                NaN                NaN   \n",
       "2494                NaN                NaN                NaN   \n",
       "2495                NaN                NaN                NaN   \n",
       "2496                NaN                NaN                NaN   \n",
       "2497                NaN                NaN                NaN   \n",
       "\n",
       "      PCT_SE_A09005_004  PCT_SE_A09005_005  PCT_SE_A09005_006  \\\n",
       "0                  0.78                0.0               0.59   \n",
       "1                  0.00                0.0               0.00   \n",
       "2                  0.00                0.0               1.86   \n",
       "3                  0.00                0.0               0.00   \n",
       "4                  0.00                0.0               5.34   \n",
       "...                 ...                ...                ...   \n",
       "2493                NaN                NaN                NaN   \n",
       "2494                NaN                NaN                NaN   \n",
       "2495                NaN                NaN                NaN   \n",
       "2496                NaN                NaN                NaN   \n",
       "2497                NaN                NaN                NaN   \n",
       "\n",
       "      PCT_SE_A09005_007  PCT_SE_A09005_008  \n",
       "0                  0.10               5.19  \n",
       "1                  3.87              16.68  \n",
       "2                  6.67               6.91  \n",
       "3                  7.43               1.31  \n",
       "4                  1.09               2.35  \n",
       "...                 ...                ...  \n",
       "2493                NaN                NaN  \n",
       "2494                NaN                NaN  \n",
       "2495                NaN                NaN  \n",
       "2496                NaN                NaN  \n",
       "2497                NaN                NaN  \n",
       "\n",
       "[2498 rows x 64 columns]>"
      ]
     },
     "execution_count": 11,
     "metadata": {},
     "output_type": "execute_result"
    }
   ],
   "source": [
    "df.sample()"
   ]
  },
  {
   "cell_type": "code",
   "execution_count": null,
   "id": "5bd1ed4a-c849-450a-9649-7e6e0638d4d2",
   "metadata": {},
   "outputs": [],
   "source": [
    "#frustratingly, i cannot get this to display as a neat table. at least I have leading zeros displaying correctly. "
   ]
  },
  {
   "cell_type": "code",
   "execution_count": 13,
   "id": "864b565c-4c67-4b4b-8bf6-3da691c1495e",
   "metadata": {},
   "outputs": [
    {
     "data": {
      "text/plain": [
       "5.243585592877378"
      ]
     },
     "execution_count": 13,
     "metadata": {},
     "output_type": "execute_result"
    }
   ],
   "source": [
    "#calculate the average percentage of residents aged 16 above who are transit reliant across all census tracts\n",
    "df['PCT_SE_A09005_003'].mean()"
   ]
  },
  {
   "cell_type": "code",
   "execution_count": 17,
   "id": "c8b1e325-b53f-4843-9ded-dc712e19321f",
   "metadata": {},
   "outputs": [],
   "source": [
    "#sort the data based on proportion of residents who are transit reliant, showing the most transit reliant areas first\n",
    "df_sorted = df.sort_values(by='PCT_SE_A09005_003', ascending = False)"
   ]
  },
  {
   "cell_type": "code",
   "execution_count": 20,
   "id": "aaefb399-26f6-4d86-b66a-0ac81eb91082",
   "metadata": {},
   "outputs": [
    {
     "data": {
      "text/html": [
       "<div>\n",
       "<style scoped>\n",
       "    .dataframe tbody tr th:only-of-type {\n",
       "        vertical-align: middle;\n",
       "    }\n",
       "\n",
       "    .dataframe tbody tr th {\n",
       "        vertical-align: top;\n",
       "    }\n",
       "\n",
       "    .dataframe thead th {\n",
       "        text-align: right;\n",
       "    }\n",
       "</style>\n",
       "<table border=\"1\" class=\"dataframe\">\n",
       "  <thead>\n",
       "    <tr style=\"text-align: right;\">\n",
       "      <th></th>\n",
       "      <th>PCT_SE_A09005_003</th>\n",
       "      <th>Geo_FIPS</th>\n",
       "    </tr>\n",
       "  </thead>\n",
       "  <tbody>\n",
       "    <tr>\n",
       "      <th>622</th>\n",
       "      <td>57.83</td>\n",
       "      <td>06037208903</td>\n",
       "    </tr>\n",
       "    <tr>\n",
       "      <th>632</th>\n",
       "      <td>57.30</td>\n",
       "      <td>06037209402</td>\n",
       "    </tr>\n",
       "    <tr>\n",
       "      <th>590</th>\n",
       "      <td>51.77</td>\n",
       "      <td>06037206303</td>\n",
       "    </tr>\n",
       "    <tr>\n",
       "      <th>631</th>\n",
       "      <td>46.05</td>\n",
       "      <td>06037209401</td>\n",
       "    </tr>\n",
       "    <tr>\n",
       "      <th>589</th>\n",
       "      <td>45.35</td>\n",
       "      <td>06037206302</td>\n",
       "    </tr>\n",
       "    <tr>\n",
       "      <th>633</th>\n",
       "      <td>44.94</td>\n",
       "      <td>06037209403</td>\n",
       "    </tr>\n",
       "    <tr>\n",
       "      <th>621</th>\n",
       "      <td>44.20</td>\n",
       "      <td>06037208902</td>\n",
       "    </tr>\n",
       "    <tr>\n",
       "      <th>588</th>\n",
       "      <td>43.93</td>\n",
       "      <td>06037206301</td>\n",
       "    </tr>\n",
       "    <tr>\n",
       "      <th>618</th>\n",
       "      <td>43.82</td>\n",
       "      <td>06037208720</td>\n",
       "    </tr>\n",
       "    <tr>\n",
       "      <th>623</th>\n",
       "      <td>43.75</td>\n",
       "      <td>06037208904</td>\n",
       "    </tr>\n",
       "  </tbody>\n",
       "</table>\n",
       "</div>"
      ],
      "text/plain": [
       "     PCT_SE_A09005_003     Geo_FIPS\n",
       "622              57.83  06037208903\n",
       "632              57.30  06037209402\n",
       "590              51.77  06037206303\n",
       "631              46.05  06037209401\n",
       "589              45.35  06037206302\n",
       "633              44.94  06037209403\n",
       "621              44.20  06037208902\n",
       "588              43.93  06037206301\n",
       "618              43.82  06037208720\n",
       "623              43.75  06037208904"
      ]
     },
     "execution_count": 20,
     "metadata": {},
     "output_type": "execute_result"
    }
   ],
   "source": [
    "#display the 10 most transit-reliant CTs in LA county\n",
    "df_sorted[['PCT_SE_A09005_003', 'Geo_FIPS']].head(10)"
   ]
  },
  {
   "cell_type": "code",
   "execution_count": 23,
   "id": "69931ce2-1c08-4224-8a1f-24aad13a0683",
   "metadata": {},
   "outputs": [
    {
     "data": {
      "text/plain": [
       "<Axes: title={'center': '10 Most Transit-reliant Census Tracts in LA County in 2022'}, xlabel='Source: LA Geo Hub (2022)', ylabel='proportion of residents reliant on public transit'>"
      ]
     },
     "execution_count": 23,
     "metadata": {},
     "output_type": "execute_result"
    },
    {
     "data": {
      "image/png": "[encoded data removed]",
      "text/plain": [
       "<Figure size 640x480 with 1 Axes>"
      ]
     },
     "metadata": {},
     "output_type": "display_data"
    }
   ],
   "source": [
    "# I want to display a bar chart that shows the 10 most transit reliant census tracts in LA County.\n",
    "df_sorted.head(10).plot.bar(x='Geo_FIPS',\n",
    "                             y='PCT_SE_A09005_003',\n",
    "                             title='10 Most Transit-reliant Census Tracts in LA County in 2022',\n",
    "                             color='navy',\n",
    "                            ylabel='proportion of residents reliant on public transit',\n",
    "                            xlabel='Source: LA Geo Hub (2022)')"
   ]
  },
  {
   "cell_type": "code",
   "execution_count": 28,
   "id": "9c65dee3-37f4-4f6c-8d67-835fda4f0248",
   "metadata": {},
   "outputs": [],
   "source": [
    "import geopandas as gpd"
   ]
  },
  {
   "cell_type": "code",
   "execution_count": 34,
   "id": "1414ba53-b836-4747-8ce3-81e488f93b85",
   "metadata": {},
   "outputs": [
    {
     "ename": "DriverError",
     "evalue": "data/Census_Tracts_2020.geojson: No such file or directory",
     "output_type": "error",
     "traceback": [
      "\u001b[0;31m---------------------------------------------------------------------------\u001b[0m",
      "\u001b[0;31mCPLE_OpenFailedError\u001b[0m                      Traceback (most recent call last)",
      "File \u001b[0;32mfiona/ogrext.pyx:136\u001b[0m, in \u001b[0;36mfiona.ogrext.gdal_open_vector\u001b[0;34m()\u001b[0m\n",
      "File \u001b[0;32mfiona/_err.pyx:291\u001b[0m, in \u001b[0;36mfiona._err.exc_wrap_pointer\u001b[0;34m()\u001b[0m\n",
      "\u001b[0;31mCPLE_OpenFailedError\u001b[0m: data/Census_Tracts_2020.geojson: No such file or directory",
      "\nDuring handling of the above exception, another exception occurred:\n",
      "\u001b[0;31mDriverError\u001b[0m                               Traceback (most recent call last)",
      "Cell \u001b[0;32mIn[34], line 1\u001b[0m\n\u001b[0;32m----> 1\u001b[0m tracts\u001b[38;5;241m=\u001b[39m\u001b[43mgpd\u001b[49m\u001b[38;5;241;43m.\u001b[39;49m\u001b[43mread_file\u001b[49m\u001b[43m(\u001b[49m\u001b[38;5;124;43m'\u001b[39;49m\u001b[38;5;124;43mdata/Census_Tracts_2020.geojson\u001b[39;49m\u001b[38;5;124;43m'\u001b[39;49m\u001b[43m)\u001b[49m\n\u001b[1;32m      2\u001b[0m tracts\u001b[38;5;241m.\u001b[39mhead()\n",
      "File \u001b[0;32m/opt/conda/lib/python3.11/site-packages/geopandas/io/file.py:297\u001b[0m, in \u001b[0;36m_read_file\u001b[0;34m(filename, bbox, mask, rows, engine, **kwargs)\u001b[0m\n\u001b[1;32m    294\u001b[0m     \u001b[38;5;28;01melse\u001b[39;00m:\n\u001b[1;32m    295\u001b[0m         path_or_bytes \u001b[38;5;241m=\u001b[39m filename\n\u001b[0;32m--> 297\u001b[0m     \u001b[38;5;28;01mreturn\u001b[39;00m \u001b[43m_read_file_fiona\u001b[49m\u001b[43m(\u001b[49m\n\u001b[1;32m    298\u001b[0m \u001b[43m        \u001b[49m\u001b[43mpath_or_bytes\u001b[49m\u001b[43m,\u001b[49m\u001b[43m \u001b[49m\u001b[43mfrom_bytes\u001b[49m\u001b[43m,\u001b[49m\u001b[43m \u001b[49m\u001b[43mbbox\u001b[49m\u001b[38;5;241;43m=\u001b[39;49m\u001b[43mbbox\u001b[49m\u001b[43m,\u001b[49m\u001b[43m \u001b[49m\u001b[43mmask\u001b[49m\u001b[38;5;241;43m=\u001b[39;49m\u001b[43mmask\u001b[49m\u001b[43m,\u001b[49m\u001b[43m \u001b[49m\u001b[43mrows\u001b[49m\u001b[38;5;241;43m=\u001b[39;49m\u001b[43mrows\u001b[49m\u001b[43m,\u001b[49m\u001b[43m \u001b[49m\u001b[38;5;241;43m*\u001b[39;49m\u001b[38;5;241;43m*\u001b[39;49m\u001b[43mkwargs\u001b[49m\n\u001b[1;32m    299\u001b[0m \u001b[43m    \u001b[49m\u001b[43m)\u001b[49m\n\u001b[1;32m    301\u001b[0m \u001b[38;5;28;01melse\u001b[39;00m:\n\u001b[1;32m    302\u001b[0m     \u001b[38;5;28;01mraise\u001b[39;00m \u001b[38;5;167;01mValueError\u001b[39;00m(\u001b[38;5;124mf\u001b[39m\u001b[38;5;124m\"\u001b[39m\u001b[38;5;124munknown engine \u001b[39m\u001b[38;5;124m'\u001b[39m\u001b[38;5;132;01m{\u001b[39;00mengine\u001b[38;5;132;01m}\u001b[39;00m\u001b[38;5;124m'\u001b[39m\u001b[38;5;124m\"\u001b[39m)\n",
      "File \u001b[0;32m/opt/conda/lib/python3.11/site-packages/geopandas/io/file.py:338\u001b[0m, in \u001b[0;36m_read_file_fiona\u001b[0;34m(path_or_bytes, from_bytes, bbox, mask, rows, where, **kwargs)\u001b[0m\n\u001b[1;32m    335\u001b[0m     reader \u001b[38;5;241m=\u001b[39m fiona\u001b[38;5;241m.\u001b[39mopen\n\u001b[1;32m    337\u001b[0m \u001b[38;5;28;01mwith\u001b[39;00m fiona_env():\n\u001b[0;32m--> 338\u001b[0m     \u001b[38;5;28;01mwith\u001b[39;00m \u001b[43mreader\u001b[49m\u001b[43m(\u001b[49m\u001b[43mpath_or_bytes\u001b[49m\u001b[43m,\u001b[49m\u001b[43m \u001b[49m\u001b[38;5;241;43m*\u001b[39;49m\u001b[38;5;241;43m*\u001b[39;49m\u001b[43mkwargs\u001b[49m\u001b[43m)\u001b[49m \u001b[38;5;28;01mas\u001b[39;00m features:\n\u001b[1;32m    339\u001b[0m         crs \u001b[38;5;241m=\u001b[39m features\u001b[38;5;241m.\u001b[39mcrs_wkt\n\u001b[1;32m    340\u001b[0m         \u001b[38;5;66;03m# attempt to get EPSG code\u001b[39;00m\n",
      "File \u001b[0;32m/opt/conda/lib/python3.11/site-packages/fiona/env.py:457\u001b[0m, in \u001b[0;36mensure_env_with_credentials.<locals>.wrapper\u001b[0;34m(*args, **kwds)\u001b[0m\n\u001b[1;32m    454\u001b[0m     session \u001b[38;5;241m=\u001b[39m DummySession()\n\u001b[1;32m    456\u001b[0m \u001b[38;5;28;01mwith\u001b[39;00m env_ctor(session\u001b[38;5;241m=\u001b[39msession):\n\u001b[0;32m--> 457\u001b[0m     \u001b[38;5;28;01mreturn\u001b[39;00m \u001b[43mf\u001b[49m\u001b[43m(\u001b[49m\u001b[38;5;241;43m*\u001b[39;49m\u001b[43margs\u001b[49m\u001b[43m,\u001b[49m\u001b[43m \u001b[49m\u001b[38;5;241;43m*\u001b[39;49m\u001b[38;5;241;43m*\u001b[39;49m\u001b[43mkwds\u001b[49m\u001b[43m)\u001b[49m\n",
      "File \u001b[0;32m/opt/conda/lib/python3.11/site-packages/fiona/__init__.py:292\u001b[0m, in \u001b[0;36mopen\u001b[0;34m(fp, mode, driver, schema, crs, encoding, layer, vfs, enabled_drivers, crs_wkt, allow_unsupported_drivers, **kwargs)\u001b[0m\n\u001b[1;32m    289\u001b[0m     path \u001b[38;5;241m=\u001b[39m parse_path(fp)\n\u001b[1;32m    291\u001b[0m \u001b[38;5;28;01mif\u001b[39;00m mode \u001b[38;5;129;01min\u001b[39;00m (\u001b[38;5;124m\"\u001b[39m\u001b[38;5;124ma\u001b[39m\u001b[38;5;124m\"\u001b[39m, \u001b[38;5;124m\"\u001b[39m\u001b[38;5;124mr\u001b[39m\u001b[38;5;124m\"\u001b[39m):\n\u001b[0;32m--> 292\u001b[0m     colxn \u001b[38;5;241m=\u001b[39m \u001b[43mCollection\u001b[49m\u001b[43m(\u001b[49m\n\u001b[1;32m    293\u001b[0m \u001b[43m        \u001b[49m\u001b[43mpath\u001b[49m\u001b[43m,\u001b[49m\n\u001b[1;32m    294\u001b[0m \u001b[43m        \u001b[49m\u001b[43mmode\u001b[49m\u001b[43m,\u001b[49m\n\u001b[1;32m    295\u001b[0m \u001b[43m        \u001b[49m\u001b[43mdriver\u001b[49m\u001b[38;5;241;43m=\u001b[39;49m\u001b[43mdriver\u001b[49m\u001b[43m,\u001b[49m\n\u001b[1;32m    296\u001b[0m \u001b[43m        \u001b[49m\u001b[43mencoding\u001b[49m\u001b[38;5;241;43m=\u001b[39;49m\u001b[43mencoding\u001b[49m\u001b[43m,\u001b[49m\n\u001b[1;32m    297\u001b[0m \u001b[43m        \u001b[49m\u001b[43mlayer\u001b[49m\u001b[38;5;241;43m=\u001b[39;49m\u001b[43mlayer\u001b[49m\u001b[43m,\u001b[49m\n\u001b[1;32m    298\u001b[0m \u001b[43m        \u001b[49m\u001b[43menabled_drivers\u001b[49m\u001b[38;5;241;43m=\u001b[39;49m\u001b[43menabled_drivers\u001b[49m\u001b[43m,\u001b[49m\n\u001b[1;32m    299\u001b[0m \u001b[43m        \u001b[49m\u001b[43mallow_unsupported_drivers\u001b[49m\u001b[38;5;241;43m=\u001b[39;49m\u001b[43mallow_unsupported_drivers\u001b[49m\u001b[43m,\u001b[49m\n\u001b[1;32m    300\u001b[0m \u001b[43m        \u001b[49m\u001b[38;5;241;43m*\u001b[39;49m\u001b[38;5;241;43m*\u001b[39;49m\u001b[43mkwargs\u001b[49m\n\u001b[1;32m    301\u001b[0m \u001b[43m    \u001b[49m\u001b[43m)\u001b[49m\n\u001b[1;32m    302\u001b[0m \u001b[38;5;28;01melif\u001b[39;00m mode \u001b[38;5;241m==\u001b[39m \u001b[38;5;124m\"\u001b[39m\u001b[38;5;124mw\u001b[39m\u001b[38;5;124m\"\u001b[39m:\n\u001b[1;32m    303\u001b[0m     colxn \u001b[38;5;241m=\u001b[39m Collection(\n\u001b[1;32m    304\u001b[0m         path,\n\u001b[1;32m    305\u001b[0m         mode,\n\u001b[0;32m   (...)\u001b[0m\n\u001b[1;32m    314\u001b[0m         \u001b[38;5;241m*\u001b[39m\u001b[38;5;241m*\u001b[39mkwargs\n\u001b[1;32m    315\u001b[0m     )\n",
      "File \u001b[0;32m/opt/conda/lib/python3.11/site-packages/fiona/collection.py:243\u001b[0m, in \u001b[0;36mCollection.__init__\u001b[0;34m(self, path, mode, driver, schema, crs, encoding, layer, vsi, archive, enabled_drivers, crs_wkt, ignore_fields, ignore_geometry, include_fields, wkt_version, allow_unsupported_drivers, **kwargs)\u001b[0m\n\u001b[1;32m    241\u001b[0m \u001b[38;5;28;01mif\u001b[39;00m \u001b[38;5;28mself\u001b[39m\u001b[38;5;241m.\u001b[39mmode \u001b[38;5;241m==\u001b[39m \u001b[38;5;124m\"\u001b[39m\u001b[38;5;124mr\u001b[39m\u001b[38;5;124m\"\u001b[39m:\n\u001b[1;32m    242\u001b[0m     \u001b[38;5;28mself\u001b[39m\u001b[38;5;241m.\u001b[39msession \u001b[38;5;241m=\u001b[39m Session()\n\u001b[0;32m--> 243\u001b[0m     \u001b[38;5;28;43mself\u001b[39;49m\u001b[38;5;241;43m.\u001b[39;49m\u001b[43msession\u001b[49m\u001b[38;5;241;43m.\u001b[39;49m\u001b[43mstart\u001b[49m\u001b[43m(\u001b[49m\u001b[38;5;28;43mself\u001b[39;49m\u001b[43m,\u001b[49m\u001b[43m \u001b[49m\u001b[38;5;241;43m*\u001b[39;49m\u001b[38;5;241;43m*\u001b[39;49m\u001b[43mkwargs\u001b[49m\u001b[43m)\u001b[49m\n\u001b[1;32m    244\u001b[0m \u001b[38;5;28;01melif\u001b[39;00m \u001b[38;5;28mself\u001b[39m\u001b[38;5;241m.\u001b[39mmode \u001b[38;5;129;01min\u001b[39;00m (\u001b[38;5;124m\"\u001b[39m\u001b[38;5;124ma\u001b[39m\u001b[38;5;124m\"\u001b[39m, \u001b[38;5;124m\"\u001b[39m\u001b[38;5;124mw\u001b[39m\u001b[38;5;124m\"\u001b[39m):\n\u001b[1;32m    245\u001b[0m     \u001b[38;5;28mself\u001b[39m\u001b[38;5;241m.\u001b[39msession \u001b[38;5;241m=\u001b[39m WritingSession()\n",
      "File \u001b[0;32mfiona/ogrext.pyx:588\u001b[0m, in \u001b[0;36mfiona.ogrext.Session.start\u001b[0;34m()\u001b[0m\n",
      "File \u001b[0;32mfiona/ogrext.pyx:143\u001b[0m, in \u001b[0;36mfiona.ogrext.gdal_open_vector\u001b[0;34m()\u001b[0m\n",
      "\u001b[0;31mDriverError\u001b[0m: data/Census_Tracts_2020.geojson: No such file or directory"
     ]
    }
   ],
   "source": [
    "tracts=gpd.read_file('data/Census_Tracts_2020.geojson')\n",
    "tracts.head()"
   ]
  },
  {
   "cell_type": "code",
   "execution_count": null,
   "id": "79baa069-d329-45eb-b30f-8d00bd2d6f5e",
   "metadata": {},
   "outputs": [],
   "source": [
    "#Drats, even though Centus_Tracts_2020.geojson is uploaded in the data file of this directory, python is refusing to read it. "
   ]
  },
  {
   "cell_type": "code",
   "execution_count": null,
   "id": "ad2b4b9c-0aeb-459e-baa9-833200ed914d",
   "metadata": {},
   "outputs": [],
   "source": []
  }
 ],
 "metadata": {
  "kernelspec": {
   "display_name": "Python 3 (ipykernel)",
   "language": "python",
   "name": "python3"
  },
  "language_info": {
   "codemirror_mode": {
    "name": "ipython",
    "version": 3
   },
   "file_extension": ".py",
   "mimetype": "text/x-python",
   "name": "python",
   "nbconvert_exporter": "python",
   "pygments_lexer": "ipython3",
   "version": "3.11.7"
  }
 },
 "nbformat": 4,
 "nbformat_minor": 5
}
