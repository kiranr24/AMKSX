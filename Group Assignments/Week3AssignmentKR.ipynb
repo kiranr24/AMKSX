{
 "cells": [
  {
   "cell_type": "markdown",
   "id": "f133b5df-d17b-4369-a09d-073d389f0420",
   "metadata": {},
   "source": [
    "# Census Exploration\n",
    "## By Kiran Rao\n",
    "### This is an exploration of the racial profile of Los Angeles County. Through this, we hope to find patterns in where communities may reside and provide additional context for an exploration of understanding where food insecurity is in Los Angeles.  I aim to use a multitude of different types of libraries and census data pertaining to Los Angeles county. I will look at different racial identites and create maps based on that data. "
   ]
  },
  {
   "cell_type": "markdown",
   "id": "f4c9be41-80ca-42a8-b738-5165f52e9708",
   "metadata": {},
   "source": [
    "### **Loading the Data + Libraries**"
   ]
  },
  {
   "cell_type": "markdown",
   "id": "e0c4d895-92a1-4e8d-ad48-3e3b3141b8b7",
   "metadata": {},
   "source": [
    "##### I will first load the relevant coding languages for our project."
   ]
  },
  {
   "cell_type": "code",
   "execution_count": 63,
   "id": "6811fc5f-1ead-45d9-855c-61e29f7370bd",
   "metadata": {},
   "outputs": [],
   "source": [
    "import pandas as pd\n",
    "import geopandas as gpd "
   ]
  },
  {
   "cell_type": "code",
   "execution_count": 86,
   "id": "53b5f2ad-f551-49d9-93d9-3a3b7312704e",
   "metadata": {},
   "outputs": [],
   "source": [
    "df = pd.read_csv('data/Race_LA County.csv')"
   ]
  },
  {
   "cell_type": "markdown",
   "id": "7563b24e-10f6-42ac-ab1f-f6250cddf1a9",
   "metadata": {},
   "source": [
    "##### I then have the dataset loaded into the document. This is data pulled directly from the U.S. Census pertaining to the racial/ethnic makeups of census tracts located in Los Angeles county. "
   ]
  },
  {
   "cell_type": "markdown",
   "id": "7cab6997-4e45-4e84-b09f-9bfaac768a21",
   "metadata": {},
   "source": [
    "### **Intial Exploration & Clean-Up**"
   ]
  },
  {
   "cell_type": "markdown",
   "id": "b8b40dd0-ed70-4b90-aa03-dfe764b454a5",
   "metadata": {},
   "source": [
    "##### I am going to first understand how big my data set is."
   ]
  },
  {
   "cell_type": "code",
   "execution_count": 87,
   "id": "f8acc618-7985-433f-8f91-33163225285a",
   "metadata": {},
   "outputs": [
    {
     "data": {
      "text/plain": [
       "(2498, 50)"
      ]
     },
     "execution_count": 87,
     "metadata": {},
     "output_type": "execute_result"
    }
   ],
   "source": [
    "df.shape"
   ]
  },
  {
   "cell_type": "markdown",
   "id": "86c0b03a-4104-4742-b6cb-6954ff423bbd",
   "metadata": {},
   "source": [
    "##### It is 50 columns and 2498 rows large, which accounts for each of the census tracts in the county."
   ]
  },
  {
   "cell_type": "code",
   "execution_count": 88,
   "id": "bb5640df-c4f5-492e-8cab-8cc70fcf758e",
   "metadata": {},
   "outputs": [
    {
     "data": {
      "text/html": [
       "<div>\n",
       "<style scoped>\n",
       "    .dataframe tbody tr th:only-of-type {\n",
       "        vertical-align: middle;\n",
       "    }\n",
       "\n",
       "    .dataframe tbody tr th {\n",
       "        vertical-align: top;\n",
       "    }\n",
       "\n",
       "    .dataframe thead th {\n",
       "        text-align: right;\n",
       "    }\n",
       "</style>\n",
       "<table border=\"1\" class=\"dataframe\">\n",
       "  <thead>\n",
       "    <tr style=\"text-align: right;\">\n",
       "      <th></th>\n",
       "      <th>Geo_FIPS</th>\n",
       "      <th>Geo_NAME</th>\n",
       "      <th>Geo_QNAME</th>\n",
       "      <th>Geo_NATION</th>\n",
       "      <th>Geo_STATE</th>\n",
       "      <th>Geo_COUNTY</th>\n",
       "      <th>Geo_CS</th>\n",
       "      <th>Geo_CT</th>\n",
       "      <th>Geo_PLACE</th>\n",
       "      <th>Geo_CSA</th>\n",
       "      <th>...</th>\n",
       "      <th>SE_T017_020</th>\n",
       "      <th>SE_T017_002</th>\n",
       "      <th>SE_T017_004</th>\n",
       "      <th>SE_T017_006</th>\n",
       "      <th>SE_T017_008</th>\n",
       "      <th>SE_T017_010</th>\n",
       "      <th>SE_T017_012</th>\n",
       "      <th>SE_T017_014</th>\n",
       "      <th>SE_T017_016</th>\n",
       "      <th>SE_T017_018</th>\n",
       "    </tr>\n",
       "  </thead>\n",
       "  <tbody>\n",
       "    <tr>\n",
       "      <th>0</th>\n",
       "      <td>6037101110</td>\n",
       "      <td>Census Tract 1011.10</td>\n",
       "      <td>Census Tract 1011.10, Los Angeles County, Cali...</td>\n",
       "      <td>0</td>\n",
       "      <td>6</td>\n",
       "      <td>37</td>\n",
       "      <td>NaN</td>\n",
       "      <td>101110</td>\n",
       "      <td>NaN</td>\n",
       "      <td>NaN</td>\n",
       "      <td>...</td>\n",
       "      <td>4.121750</td>\n",
       "      <td>4.050484</td>\n",
       "      <td>6.927711</td>\n",
       "      <td>-12.162162</td>\n",
       "      <td>-50.000000</td>\n",
       "      <td>-10.699588</td>\n",
       "      <td>100.0</td>\n",
       "      <td>-53.333333</td>\n",
       "      <td>23.776224</td>\n",
       "      <td>4.305136</td>\n",
       "    </tr>\n",
       "    <tr>\n",
       "      <th>1</th>\n",
       "      <td>6037101122</td>\n",
       "      <td>Census Tract 1011.22</td>\n",
       "      <td>Census Tract 1011.22, Los Angeles County, Cali...</td>\n",
       "      <td>0</td>\n",
       "      <td>6</td>\n",
       "      <td>37</td>\n",
       "      <td>NaN</td>\n",
       "      <td>101122</td>\n",
       "      <td>NaN</td>\n",
       "      <td>NaN</td>\n",
       "      <td>...</td>\n",
       "      <td>1.746725</td>\n",
       "      <td>3.140175</td>\n",
       "      <td>7.263028</td>\n",
       "      <td>19.230769</td>\n",
       "      <td>75.000000</td>\n",
       "      <td>-20.808081</td>\n",
       "      <td>-100.0</td>\n",
       "      <td>130.000000</td>\n",
       "      <td>2.586207</td>\n",
       "      <td>-5.739130</td>\n",
       "    </tr>\n",
       "    <tr>\n",
       "      <th>2</th>\n",
       "      <td>6037101220</td>\n",
       "      <td>Census Tract 1012.20</td>\n",
       "      <td>Census Tract 1012.20, Los Angeles County, Cali...</td>\n",
       "      <td>0</td>\n",
       "      <td>6</td>\n",
       "      <td>37</td>\n",
       "      <td>NaN</td>\n",
       "      <td>101220</td>\n",
       "      <td>NaN</td>\n",
       "      <td>NaN</td>\n",
       "      <td>...</td>\n",
       "      <td>-0.564972</td>\n",
       "      <td>8.225729</td>\n",
       "      <td>5.354994</td>\n",
       "      <td>-5.555556</td>\n",
       "      <td>-63.636364</td>\n",
       "      <td>29.411765</td>\n",
       "      <td>-100.0</td>\n",
       "      <td>600.000000</td>\n",
       "      <td>-3.809524</td>\n",
       "      <td>-15.015723</td>\n",
       "    </tr>\n",
       "    <tr>\n",
       "      <th>3</th>\n",
       "      <td>6037101221</td>\n",
       "      <td>Census Tract 1012.21</td>\n",
       "      <td>Census Tract 1012.21, Los Angeles County, Cali...</td>\n",
       "      <td>0</td>\n",
       "      <td>6</td>\n",
       "      <td>37</td>\n",
       "      <td>NaN</td>\n",
       "      <td>101221</td>\n",
       "      <td>NaN</td>\n",
       "      <td>NaN</td>\n",
       "      <td>...</td>\n",
       "      <td>0.291206</td>\n",
       "      <td>0.132567</td>\n",
       "      <td>5.444126</td>\n",
       "      <td>-17.977528</td>\n",
       "      <td>-25.000000</td>\n",
       "      <td>-5.747126</td>\n",
       "      <td>0.0</td>\n",
       "      <td>100.000000</td>\n",
       "      <td>-41.666667</td>\n",
       "      <td>0.597780</td>\n",
       "    </tr>\n",
       "    <tr>\n",
       "      <th>4</th>\n",
       "      <td>6037101222</td>\n",
       "      <td>Census Tract 1012.22</td>\n",
       "      <td>Census Tract 1012.22, Los Angeles County, Cali...</td>\n",
       "      <td>0</td>\n",
       "      <td>6</td>\n",
       "      <td>37</td>\n",
       "      <td>NaN</td>\n",
       "      <td>101222</td>\n",
       "      <td>NaN</td>\n",
       "      <td>NaN</td>\n",
       "      <td>...</td>\n",
       "      <td>9.859155</td>\n",
       "      <td>17.241379</td>\n",
       "      <td>27.074236</td>\n",
       "      <td>-19.148936</td>\n",
       "      <td>50.000000</td>\n",
       "      <td>-20.855615</td>\n",
       "      <td>NaN</td>\n",
       "      <td>NaN</td>\n",
       "      <td>-2.500000</td>\n",
       "      <td>-0.763359</td>\n",
       "    </tr>\n",
       "  </tbody>\n",
       "</table>\n",
       "<p>5 rows × 50 columns</p>\n",
       "</div>"
      ],
      "text/plain": [
       "     Geo_FIPS              Geo_NAME  \\\n",
       "0  6037101110  Census Tract 1011.10   \n",
       "1  6037101122  Census Tract 1011.22   \n",
       "2  6037101220  Census Tract 1012.20   \n",
       "3  6037101221  Census Tract 1012.21   \n",
       "4  6037101222  Census Tract 1012.22   \n",
       "\n",
       "                                           Geo_QNAME  Geo_NATION  Geo_STATE  \\\n",
       "0  Census Tract 1011.10, Los Angeles County, Cali...           0          6   \n",
       "1  Census Tract 1011.22, Los Angeles County, Cali...           0          6   \n",
       "2  Census Tract 1012.20, Los Angeles County, Cali...           0          6   \n",
       "3  Census Tract 1012.21, Los Angeles County, Cali...           0          6   \n",
       "4  Census Tract 1012.22, Los Angeles County, Cali...           0          6   \n",
       "\n",
       "   Geo_COUNTY  Geo_CS  Geo_CT  Geo_PLACE  Geo_CSA  ...  SE_T017_020  \\\n",
       "0          37     NaN  101110        NaN      NaN  ...     4.121750   \n",
       "1          37     NaN  101122        NaN      NaN  ...     1.746725   \n",
       "2          37     NaN  101220        NaN      NaN  ...    -0.564972   \n",
       "3          37     NaN  101221        NaN      NaN  ...     0.291206   \n",
       "4          37     NaN  101222        NaN      NaN  ...     9.859155   \n",
       "\n",
       "   SE_T017_002  SE_T017_004  SE_T017_006  SE_T017_008  SE_T017_010  \\\n",
       "0     4.050484     6.927711   -12.162162   -50.000000   -10.699588   \n",
       "1     3.140175     7.263028    19.230769    75.000000   -20.808081   \n",
       "2     8.225729     5.354994    -5.555556   -63.636364    29.411765   \n",
       "3     0.132567     5.444126   -17.977528   -25.000000    -5.747126   \n",
       "4    17.241379    27.074236   -19.148936    50.000000   -20.855615   \n",
       "\n",
       "   SE_T017_012  SE_T017_014  SE_T017_016  SE_T017_018  \n",
       "0        100.0   -53.333333    23.776224     4.305136  \n",
       "1       -100.0   130.000000     2.586207    -5.739130  \n",
       "2       -100.0   600.000000    -3.809524   -15.015723  \n",
       "3          0.0   100.000000   -41.666667     0.597780  \n",
       "4          NaN          NaN    -2.500000    -0.763359  \n",
       "\n",
       "[5 rows x 50 columns]"
      ]
     },
     "execution_count": 88,
     "metadata": {},
     "output_type": "execute_result"
    }
   ],
   "source": [
    "df.head()"
   ]
  },
  {
   "cell_type": "markdown",
   "id": "fcb1f4f3-4f6b-42d7-8907-bc9180ddb00a",
   "metadata": {},
   "source": [
    "##### Here, I pulled the headers of the data to gain more information about the data types prevalent in my data set. I see there are geo_FIPS, names of the census tracts, and columns accounting for the individual race breakdowns of the county."
   ]
  },
  {
   "cell_type": "code",
   "execution_count": 89,
   "id": "17725969-6bbd-4579-94ff-74e779eedfbb",
   "metadata": {},
   "outputs": [
    {
     "name": "stdout",
     "output_type": "stream",
     "text": [
      "<class 'pandas.core.frame.DataFrame'>\n",
      "RangeIndex: 2498 entries, 0 to 2497\n",
      "Data columns (total 50 columns):\n",
      " #   Column       Non-Null Count  Dtype  \n",
      "---  ------       --------------  -----  \n",
      " 0   Geo_FIPS     2498 non-null   int64  \n",
      " 1   Geo_NAME     2498 non-null   object \n",
      " 2   Geo_QNAME    2498 non-null   object \n",
      " 3   Geo_NATION   2498 non-null   int64  \n",
      " 4   Geo_STATE    2498 non-null   int64  \n",
      " 5   Geo_COUNTY   2498 non-null   int64  \n",
      " 6   Geo_CS       0 non-null      float64\n",
      " 7   Geo_CT       2498 non-null   int64  \n",
      " 8   Geo_PLACE    0 non-null      float64\n",
      " 9   Geo_CSA      0 non-null      float64\n",
      " 10  SE_T004_019  2498 non-null   int64  \n",
      " 11  SE_T004_001  2498 non-null   int64  \n",
      " 12  SE_T004_003  2498 non-null   int64  \n",
      " 13  SE_T004_005  2498 non-null   int64  \n",
      " 14  SE_T004_007  2498 non-null   int64  \n",
      " 15  SE_T004_009  2498 non-null   int64  \n",
      " 16  SE_T004_011  2498 non-null   int64  \n",
      " 17  SE_T004_013  2498 non-null   int64  \n",
      " 18  SE_T004_015  2498 non-null   int64  \n",
      " 19  SE_T004_017  2498 non-null   int64  \n",
      " 20  SE_T005_019  2498 non-null   float64\n",
      " 21  SE_T005_001  2495 non-null   float64\n",
      " 22  SE_T005_003  2495 non-null   float64\n",
      " 23  SE_T005_005  2495 non-null   float64\n",
      " 24  SE_T005_007  2495 non-null   float64\n",
      " 25  SE_T005_009  2495 non-null   float64\n",
      " 26  SE_T005_011  2495 non-null   float64\n",
      " 27  SE_T005_013  2495 non-null   float64\n",
      " 28  SE_T005_015  2495 non-null   float64\n",
      " 29  SE_T005_017  2495 non-null   float64\n",
      " 30  SE_T006_019  2495 non-null   float64\n",
      " 31  SE_T006_001  2495 non-null   float64\n",
      " 32  SE_T006_003  2495 non-null   float64\n",
      " 33  SE_T006_005  2495 non-null   float64\n",
      " 34  SE_T006_007  2495 non-null   float64\n",
      " 35  SE_T006_009  2495 non-null   float64\n",
      " 36  SE_T006_011  2495 non-null   float64\n",
      " 37  SE_T006_013  2495 non-null   float64\n",
      " 38  SE_T006_015  2495 non-null   float64\n",
      " 39  SE_T006_017  2495 non-null   float64\n",
      " 40  SE_T017_020  2487 non-null   float64\n",
      " 41  SE_T017_002  2487 non-null   float64\n",
      " 42  SE_T017_004  2486 non-null   float64\n",
      " 43  SE_T017_006  2479 non-null   float64\n",
      " 44  SE_T017_008  2349 non-null   float64\n",
      " 45  SE_T017_010  2472 non-null   float64\n",
      " 46  SE_T017_012  1997 non-null   float64\n",
      " 47  SE_T017_014  2396 non-null   float64\n",
      " 48  SE_T017_016  2472 non-null   float64\n",
      " 49  SE_T017_018  2484 non-null   float64\n",
      "dtypes: float64(33), int64(15), object(2)\n",
      "memory usage: 975.9+ KB\n"
     ]
    }
   ],
   "source": [
    "df.info(verbose=True, show_counts=True)"
   ]
  },
  {
   "cell_type": "markdown",
   "id": "d75dc7b1-33fb-4ff3-a4da-3ff3fd0c9a21",
   "metadata": {},
   "source": [
    "##### Above, I am running the info function to recieve information about the types of data in my set so I can figure out which data to utilize as well as make sure my data works. It looks like it recognizes most of the data aside from my geo_id has been read in probably. I am going to look at the geo_id column to understand what may be impacting it.   "
   ]
  },
  {
   "cell_type": "code",
   "execution_count": 90,
   "id": "924bef5f-845d-4b53-a479-8b0dea376b73",
   "metadata": {
    "jp-MarkdownHeadingCollapsed": true
   },
   "outputs": [
    {
     "data": {
      "text/plain": [
       "0    6037101110\n",
       "1    6037101122\n",
       "2    6037101220\n",
       "3    6037101221\n",
       "4    6037101222\n",
       "Name: Geo_FIPS, dtype: int64"
      ]
     },
     "execution_count": 90,
     "metadata": {},
     "output_type": "execute_result"
    }
   ],
   "source": [
    "df.Geo_FIPS.head()"
   ]
  },
  {
   "cell_type": "markdown",
   "id": "00c9a4ab-e221-445b-9038-5a9a9c7ab63b",
   "metadata": {},
   "source": [
    "##### However, in the pull, our leading zeros disappeared, so we should run a another piece of code that essentially changes the data type of the geo_FIPS column to a string value, as opposed to an integer, in which the csv file will erase the leading zero. "
   ]
  },
  {
   "cell_type": "code",
   "execution_count": 91,
   "id": "bb6e7f62-c629-438c-9cb3-8c72ceebd7f6",
   "metadata": {},
   "outputs": [
    {
     "ename": "FileNotFoundError",
     "evalue": "[Errno 2] No such file or directory: 'Race_LA County.csv'",
     "output_type": "error",
     "traceback": [
      "\u001b[0;31m---------------------------------------------------------------------------\u001b[0m",
      "\u001b[0;31mFileNotFoundError\u001b[0m                         Traceback (most recent call last)",
      "Cell \u001b[0;32mIn[91], line 1\u001b[0m\n\u001b[0;32m----> 1\u001b[0m df \u001b[38;5;241m=\u001b[39m \u001b[43mpd\u001b[49m\u001b[38;5;241;43m.\u001b[39;49m\u001b[43mread_csv\u001b[49m\u001b[43m(\u001b[49m\n\u001b[1;32m      2\u001b[0m \u001b[43m    \u001b[49m\u001b[38;5;124;43m'\u001b[39;49m\u001b[38;5;124;43mRace_LA County.csv\u001b[39;49m\u001b[38;5;124;43m'\u001b[39;49m\u001b[43m,\u001b[49m\n\u001b[1;32m      3\u001b[0m \u001b[43m    \u001b[49m\u001b[43mdtype\u001b[49m\u001b[38;5;241;43m=\u001b[39;49m\n\u001b[1;32m      4\u001b[0m \u001b[43m    \u001b[49m\u001b[43m{\u001b[49m\n\u001b[1;32m      5\u001b[0m \u001b[43m        \u001b[49m\u001b[38;5;124;43m'\u001b[39;49m\u001b[38;5;124;43mGeo_FIPS\u001b[39;49m\u001b[38;5;124;43m'\u001b[39;49m\u001b[43m:\u001b[49m\u001b[38;5;28;43mstr\u001b[39;49m\u001b[43m,\u001b[49m\n\u001b[1;32m      6\u001b[0m \u001b[43m        \u001b[49m\u001b[38;5;124;43m'\u001b[39;49m\u001b[38;5;124;43mGeo_STATE\u001b[39;49m\u001b[38;5;124;43m'\u001b[39;49m\u001b[43m:\u001b[49m\u001b[38;5;28;43mstr\u001b[39;49m\u001b[43m,\u001b[49m\n\u001b[1;32m      7\u001b[0m \u001b[43m        \u001b[49m\u001b[38;5;124;43m'\u001b[39;49m\u001b[38;5;124;43mGeo_COUNTY\u001b[39;49m\u001b[38;5;124;43m'\u001b[39;49m\u001b[43m:\u001b[49m\u001b[43m \u001b[49m\u001b[38;5;28;43mstr\u001b[39;49m\n\u001b[1;32m      8\u001b[0m \u001b[43m    \u001b[49m\u001b[43m}\u001b[49m\n\u001b[1;32m      9\u001b[0m \u001b[43m)\u001b[49m\n",
      "File \u001b[0;32m/opt/conda/lib/python3.11/site-packages/pandas/io/parsers/readers.py:948\u001b[0m, in \u001b[0;36mread_csv\u001b[0;34m(filepath_or_buffer, sep, delimiter, header, names, index_col, usecols, dtype, engine, converters, true_values, false_values, skipinitialspace, skiprows, skipfooter, nrows, na_values, keep_default_na, na_filter, verbose, skip_blank_lines, parse_dates, infer_datetime_format, keep_date_col, date_parser, date_format, dayfirst, cache_dates, iterator, chunksize, compression, thousands, decimal, lineterminator, quotechar, quoting, doublequote, escapechar, comment, encoding, encoding_errors, dialect, on_bad_lines, delim_whitespace, low_memory, memory_map, float_precision, storage_options, dtype_backend)\u001b[0m\n\u001b[1;32m    935\u001b[0m kwds_defaults \u001b[38;5;241m=\u001b[39m _refine_defaults_read(\n\u001b[1;32m    936\u001b[0m     dialect,\n\u001b[1;32m    937\u001b[0m     delimiter,\n\u001b[0;32m   (...)\u001b[0m\n\u001b[1;32m    944\u001b[0m     dtype_backend\u001b[38;5;241m=\u001b[39mdtype_backend,\n\u001b[1;32m    945\u001b[0m )\n\u001b[1;32m    946\u001b[0m kwds\u001b[38;5;241m.\u001b[39mupdate(kwds_defaults)\n\u001b[0;32m--> 948\u001b[0m \u001b[38;5;28;01mreturn\u001b[39;00m \u001b[43m_read\u001b[49m\u001b[43m(\u001b[49m\u001b[43mfilepath_or_buffer\u001b[49m\u001b[43m,\u001b[49m\u001b[43m \u001b[49m\u001b[43mkwds\u001b[49m\u001b[43m)\u001b[49m\n",
      "File \u001b[0;32m/opt/conda/lib/python3.11/site-packages/pandas/io/parsers/readers.py:611\u001b[0m, in \u001b[0;36m_read\u001b[0;34m(filepath_or_buffer, kwds)\u001b[0m\n\u001b[1;32m    608\u001b[0m _validate_names(kwds\u001b[38;5;241m.\u001b[39mget(\u001b[38;5;124m\"\u001b[39m\u001b[38;5;124mnames\u001b[39m\u001b[38;5;124m\"\u001b[39m, \u001b[38;5;28;01mNone\u001b[39;00m))\n\u001b[1;32m    610\u001b[0m \u001b[38;5;66;03m# Create the parser.\u001b[39;00m\n\u001b[0;32m--> 611\u001b[0m parser \u001b[38;5;241m=\u001b[39m \u001b[43mTextFileReader\u001b[49m\u001b[43m(\u001b[49m\u001b[43mfilepath_or_buffer\u001b[49m\u001b[43m,\u001b[49m\u001b[43m \u001b[49m\u001b[38;5;241;43m*\u001b[39;49m\u001b[38;5;241;43m*\u001b[39;49m\u001b[43mkwds\u001b[49m\u001b[43m)\u001b[49m\n\u001b[1;32m    613\u001b[0m \u001b[38;5;28;01mif\u001b[39;00m chunksize \u001b[38;5;129;01mor\u001b[39;00m iterator:\n\u001b[1;32m    614\u001b[0m     \u001b[38;5;28;01mreturn\u001b[39;00m parser\n",
      "File \u001b[0;32m/opt/conda/lib/python3.11/site-packages/pandas/io/parsers/readers.py:1448\u001b[0m, in \u001b[0;36mTextFileReader.__init__\u001b[0;34m(self, f, engine, **kwds)\u001b[0m\n\u001b[1;32m   1445\u001b[0m     \u001b[38;5;28mself\u001b[39m\u001b[38;5;241m.\u001b[39moptions[\u001b[38;5;124m\"\u001b[39m\u001b[38;5;124mhas_index_names\u001b[39m\u001b[38;5;124m\"\u001b[39m] \u001b[38;5;241m=\u001b[39m kwds[\u001b[38;5;124m\"\u001b[39m\u001b[38;5;124mhas_index_names\u001b[39m\u001b[38;5;124m\"\u001b[39m]\n\u001b[1;32m   1447\u001b[0m \u001b[38;5;28mself\u001b[39m\u001b[38;5;241m.\u001b[39mhandles: IOHandles \u001b[38;5;241m|\u001b[39m \u001b[38;5;28;01mNone\u001b[39;00m \u001b[38;5;241m=\u001b[39m \u001b[38;5;28;01mNone\u001b[39;00m\n\u001b[0;32m-> 1448\u001b[0m \u001b[38;5;28mself\u001b[39m\u001b[38;5;241m.\u001b[39m_engine \u001b[38;5;241m=\u001b[39m \u001b[38;5;28;43mself\u001b[39;49m\u001b[38;5;241;43m.\u001b[39;49m\u001b[43m_make_engine\u001b[49m\u001b[43m(\u001b[49m\u001b[43mf\u001b[49m\u001b[43m,\u001b[49m\u001b[43m \u001b[49m\u001b[38;5;28;43mself\u001b[39;49m\u001b[38;5;241;43m.\u001b[39;49m\u001b[43mengine\u001b[49m\u001b[43m)\u001b[49m\n",
      "File \u001b[0;32m/opt/conda/lib/python3.11/site-packages/pandas/io/parsers/readers.py:1705\u001b[0m, in \u001b[0;36mTextFileReader._make_engine\u001b[0;34m(self, f, engine)\u001b[0m\n\u001b[1;32m   1703\u001b[0m     \u001b[38;5;28;01mif\u001b[39;00m \u001b[38;5;124m\"\u001b[39m\u001b[38;5;124mb\u001b[39m\u001b[38;5;124m\"\u001b[39m \u001b[38;5;129;01mnot\u001b[39;00m \u001b[38;5;129;01min\u001b[39;00m mode:\n\u001b[1;32m   1704\u001b[0m         mode \u001b[38;5;241m+\u001b[39m\u001b[38;5;241m=\u001b[39m \u001b[38;5;124m\"\u001b[39m\u001b[38;5;124mb\u001b[39m\u001b[38;5;124m\"\u001b[39m\n\u001b[0;32m-> 1705\u001b[0m \u001b[38;5;28mself\u001b[39m\u001b[38;5;241m.\u001b[39mhandles \u001b[38;5;241m=\u001b[39m \u001b[43mget_handle\u001b[49m\u001b[43m(\u001b[49m\n\u001b[1;32m   1706\u001b[0m \u001b[43m    \u001b[49m\u001b[43mf\u001b[49m\u001b[43m,\u001b[49m\n\u001b[1;32m   1707\u001b[0m \u001b[43m    \u001b[49m\u001b[43mmode\u001b[49m\u001b[43m,\u001b[49m\n\u001b[1;32m   1708\u001b[0m \u001b[43m    \u001b[49m\u001b[43mencoding\u001b[49m\u001b[38;5;241;43m=\u001b[39;49m\u001b[38;5;28;43mself\u001b[39;49m\u001b[38;5;241;43m.\u001b[39;49m\u001b[43moptions\u001b[49m\u001b[38;5;241;43m.\u001b[39;49m\u001b[43mget\u001b[49m\u001b[43m(\u001b[49m\u001b[38;5;124;43m\"\u001b[39;49m\u001b[38;5;124;43mencoding\u001b[39;49m\u001b[38;5;124;43m\"\u001b[39;49m\u001b[43m,\u001b[49m\u001b[43m \u001b[49m\u001b[38;5;28;43;01mNone\u001b[39;49;00m\u001b[43m)\u001b[49m\u001b[43m,\u001b[49m\n\u001b[1;32m   1709\u001b[0m \u001b[43m    \u001b[49m\u001b[43mcompression\u001b[49m\u001b[38;5;241;43m=\u001b[39;49m\u001b[38;5;28;43mself\u001b[39;49m\u001b[38;5;241;43m.\u001b[39;49m\u001b[43moptions\u001b[49m\u001b[38;5;241;43m.\u001b[39;49m\u001b[43mget\u001b[49m\u001b[43m(\u001b[49m\u001b[38;5;124;43m\"\u001b[39;49m\u001b[38;5;124;43mcompression\u001b[39;49m\u001b[38;5;124;43m\"\u001b[39;49m\u001b[43m,\u001b[49m\u001b[43m \u001b[49m\u001b[38;5;28;43;01mNone\u001b[39;49;00m\u001b[43m)\u001b[49m\u001b[43m,\u001b[49m\n\u001b[1;32m   1710\u001b[0m \u001b[43m    \u001b[49m\u001b[43mmemory_map\u001b[49m\u001b[38;5;241;43m=\u001b[39;49m\u001b[38;5;28;43mself\u001b[39;49m\u001b[38;5;241;43m.\u001b[39;49m\u001b[43moptions\u001b[49m\u001b[38;5;241;43m.\u001b[39;49m\u001b[43mget\u001b[49m\u001b[43m(\u001b[49m\u001b[38;5;124;43m\"\u001b[39;49m\u001b[38;5;124;43mmemory_map\u001b[39;49m\u001b[38;5;124;43m\"\u001b[39;49m\u001b[43m,\u001b[49m\u001b[43m \u001b[49m\u001b[38;5;28;43;01mFalse\u001b[39;49;00m\u001b[43m)\u001b[49m\u001b[43m,\u001b[49m\n\u001b[1;32m   1711\u001b[0m \u001b[43m    \u001b[49m\u001b[43mis_text\u001b[49m\u001b[38;5;241;43m=\u001b[39;49m\u001b[43mis_text\u001b[49m\u001b[43m,\u001b[49m\n\u001b[1;32m   1712\u001b[0m \u001b[43m    \u001b[49m\u001b[43merrors\u001b[49m\u001b[38;5;241;43m=\u001b[39;49m\u001b[38;5;28;43mself\u001b[39;49m\u001b[38;5;241;43m.\u001b[39;49m\u001b[43moptions\u001b[49m\u001b[38;5;241;43m.\u001b[39;49m\u001b[43mget\u001b[49m\u001b[43m(\u001b[49m\u001b[38;5;124;43m\"\u001b[39;49m\u001b[38;5;124;43mencoding_errors\u001b[39;49m\u001b[38;5;124;43m\"\u001b[39;49m\u001b[43m,\u001b[49m\u001b[43m \u001b[49m\u001b[38;5;124;43m\"\u001b[39;49m\u001b[38;5;124;43mstrict\u001b[39;49m\u001b[38;5;124;43m\"\u001b[39;49m\u001b[43m)\u001b[49m\u001b[43m,\u001b[49m\n\u001b[1;32m   1713\u001b[0m \u001b[43m    \u001b[49m\u001b[43mstorage_options\u001b[49m\u001b[38;5;241;43m=\u001b[39;49m\u001b[38;5;28;43mself\u001b[39;49m\u001b[38;5;241;43m.\u001b[39;49m\u001b[43moptions\u001b[49m\u001b[38;5;241;43m.\u001b[39;49m\u001b[43mget\u001b[49m\u001b[43m(\u001b[49m\u001b[38;5;124;43m\"\u001b[39;49m\u001b[38;5;124;43mstorage_options\u001b[39;49m\u001b[38;5;124;43m\"\u001b[39;49m\u001b[43m,\u001b[49m\u001b[43m \u001b[49m\u001b[38;5;28;43;01mNone\u001b[39;49;00m\u001b[43m)\u001b[49m\u001b[43m,\u001b[49m\n\u001b[1;32m   1714\u001b[0m \u001b[43m\u001b[49m\u001b[43m)\u001b[49m\n\u001b[1;32m   1715\u001b[0m \u001b[38;5;28;01massert\u001b[39;00m \u001b[38;5;28mself\u001b[39m\u001b[38;5;241m.\u001b[39mhandles \u001b[38;5;129;01mis\u001b[39;00m \u001b[38;5;129;01mnot\u001b[39;00m \u001b[38;5;28;01mNone\u001b[39;00m\n\u001b[1;32m   1716\u001b[0m f \u001b[38;5;241m=\u001b[39m \u001b[38;5;28mself\u001b[39m\u001b[38;5;241m.\u001b[39mhandles\u001b[38;5;241m.\u001b[39mhandle\n",
      "File \u001b[0;32m/opt/conda/lib/python3.11/site-packages/pandas/io/common.py:863\u001b[0m, in \u001b[0;36mget_handle\u001b[0;34m(path_or_buf, mode, encoding, compression, memory_map, is_text, errors, storage_options)\u001b[0m\n\u001b[1;32m    858\u001b[0m \u001b[38;5;28;01melif\u001b[39;00m \u001b[38;5;28misinstance\u001b[39m(handle, \u001b[38;5;28mstr\u001b[39m):\n\u001b[1;32m    859\u001b[0m     \u001b[38;5;66;03m# Check whether the filename is to be opened in binary mode.\u001b[39;00m\n\u001b[1;32m    860\u001b[0m     \u001b[38;5;66;03m# Binary mode does not support 'encoding' and 'newline'.\u001b[39;00m\n\u001b[1;32m    861\u001b[0m     \u001b[38;5;28;01mif\u001b[39;00m ioargs\u001b[38;5;241m.\u001b[39mencoding \u001b[38;5;129;01mand\u001b[39;00m \u001b[38;5;124m\"\u001b[39m\u001b[38;5;124mb\u001b[39m\u001b[38;5;124m\"\u001b[39m \u001b[38;5;129;01mnot\u001b[39;00m \u001b[38;5;129;01min\u001b[39;00m ioargs\u001b[38;5;241m.\u001b[39mmode:\n\u001b[1;32m    862\u001b[0m         \u001b[38;5;66;03m# Encoding\u001b[39;00m\n\u001b[0;32m--> 863\u001b[0m         handle \u001b[38;5;241m=\u001b[39m \u001b[38;5;28;43mopen\u001b[39;49m\u001b[43m(\u001b[49m\n\u001b[1;32m    864\u001b[0m \u001b[43m            \u001b[49m\u001b[43mhandle\u001b[49m\u001b[43m,\u001b[49m\n\u001b[1;32m    865\u001b[0m \u001b[43m            \u001b[49m\u001b[43mioargs\u001b[49m\u001b[38;5;241;43m.\u001b[39;49m\u001b[43mmode\u001b[49m\u001b[43m,\u001b[49m\n\u001b[1;32m    866\u001b[0m \u001b[43m            \u001b[49m\u001b[43mencoding\u001b[49m\u001b[38;5;241;43m=\u001b[39;49m\u001b[43mioargs\u001b[49m\u001b[38;5;241;43m.\u001b[39;49m\u001b[43mencoding\u001b[49m\u001b[43m,\u001b[49m\n\u001b[1;32m    867\u001b[0m \u001b[43m            \u001b[49m\u001b[43merrors\u001b[49m\u001b[38;5;241;43m=\u001b[39;49m\u001b[43merrors\u001b[49m\u001b[43m,\u001b[49m\n\u001b[1;32m    868\u001b[0m \u001b[43m            \u001b[49m\u001b[43mnewline\u001b[49m\u001b[38;5;241;43m=\u001b[39;49m\u001b[38;5;124;43m\"\u001b[39;49m\u001b[38;5;124;43m\"\u001b[39;49m\u001b[43m,\u001b[49m\n\u001b[1;32m    869\u001b[0m \u001b[43m        \u001b[49m\u001b[43m)\u001b[49m\n\u001b[1;32m    870\u001b[0m     \u001b[38;5;28;01melse\u001b[39;00m:\n\u001b[1;32m    871\u001b[0m         \u001b[38;5;66;03m# Binary mode\u001b[39;00m\n\u001b[1;32m    872\u001b[0m         handle \u001b[38;5;241m=\u001b[39m \u001b[38;5;28mopen\u001b[39m(handle, ioargs\u001b[38;5;241m.\u001b[39mmode)\n",
      "\u001b[0;31mFileNotFoundError\u001b[0m: [Errno 2] No such file or directory: 'Race_LA County.csv'"
     ]
    }
   ],
   "source": [
    "df = pd.read_csv(\n",
    "    'Race_LA County.csv',\n",
    "    dtype=\n",
    "    {\n",
    "        'Geo_FIPS':str,\n",
    "        'Geo_STATE':str,\n",
    "        'Geo_COUNTY': str\n",
    "    }\n",
    ")"
   ]
  },
  {
   "cell_type": "markdown",
   "id": "43aba0f3-77bb-418c-bbe8-25d2d5411228",
   "metadata": {},
   "source": [
    "##### This will have fixed our data, which we can confirm by looking at the data again. "
   ]
  },
  {
   "cell_type": "code",
   "execution_count": null,
   "id": "e015cb65-0a85-4209-b8b9-5246d746d0aa",
   "metadata": {},
   "outputs": [],
   "source": [
    "df.head()"
   ]
  },
  {
   "cell_type": "markdown",
   "id": "ace8a789-669c-4b9f-97b1-964b89d05727",
   "metadata": {},
   "source": [
    "##### As discussed,our data has the leading zero, which is critical for the census tract data. We can also look at the data types to show further information about the data."
   ]
  },
  {
   "cell_type": "code",
   "execution_count": null,
   "id": "9188f97f-ac23-4a52-ba77-0fd8c876f733",
   "metadata": {},
   "outputs": [],
   "source": [
    "df.info(verbose=True, show_counts=True)"
   ]
  },
  {
   "cell_type": "markdown",
   "id": "9373744e-9c0a-4be1-aa7a-aa16a1646a32",
   "metadata": {},
   "source": [
    "###### Next, I am going to delete the columns that may have fully null columns, as it will not help in my calculation. This will happen using the isna function, alongside the all function. "
   ]
  },
  {
   "cell_type": "code",
   "execution_count": null,
   "id": "922ed719-dbb0-48b5-bb81-a059e65fa5a7",
   "metadata": {},
   "outputs": [],
   "source": [
    "df.columns[df.isna().all()].tolist()"
   ]
  },
  {
   "cell_type": "markdown",
   "id": "b192d0ce-ce19-4d28-8558-73eec729ce09",
   "metadata": {},
   "source": [
    "##### From here, we see that there are three columns that are completely empty, so we can use the dropna function to drop these values. "
   ]
  },
  {
   "cell_type": "code",
   "execution_count": null,
   "id": "7a65b61c-1494-4cae-8df7-899f87481f38",
   "metadata": {},
   "outputs": [],
   "source": [
    "df = df.dropna(axis=1,how=\"all\")"
   ]
  },
  {
   "cell_type": "code",
   "execution_count": null,
   "id": "5c8ce1ba-26cf-4fd5-b8b3-a3096b22a14b",
   "metadata": {},
   "outputs": [],
   "source": [
    "df.info()"
   ]
  },
  {
   "cell_type": "markdown",
   "id": "feb3feb0-927e-43eb-8e9b-9946b788b3fd",
   "metadata": {},
   "source": [
    "##### Now, those three columns have been dropped. We can run the isna function again to see if there are any columns left that are compeletely empty. "
   ]
  },
  {
   "cell_type": "code",
   "execution_count": null,
   "id": "fda65a82-e32b-4cbe-a092-fe9d0b300e5b",
   "metadata": {},
   "outputs": [],
   "source": [
    "df.columns[df.isna().all()].tolist()"
   ]
  },
  {
   "cell_type": "markdown",
   "id": "053261e1-03f8-4d5c-b935-2c9d85547de0",
   "metadata": {},
   "source": [
    "##### No columns with no values. Next, we can designate the columns that we want to keep in the portal by keeping the \"Race by Ethnicity\" columns, and create a new data frame from it. "
   ]
  },
  {
   "cell_type": "code",
   "execution_count": 92,
   "id": "4212410d-e188-42b6-aad6-8003da809faf",
   "metadata": {},
   "outputs": [],
   "source": [
    "columns_to_keep = ['Geo_FIPS',\n",
    "                   'SE_T004_019',\n",
    "                   'SE_T004_001',\n",
    "                   'SE_T004_003',\n",
    "                   'SE_T004_005',\n",
    "                   'SE_T004_007',\n",
    "                   'SE_T004_009',\n",
    "                   'SE_T004_011',\n",
    "                   'SE_T004_013',\n",
    "                   'SE_T004_015',\n",
    "                   'SE_T004_017']\n",
    "df2 = df[columns_to_keep]"
   ]
  },
  {
   "cell_type": "markdown",
   "id": "e7a9f793-6c5a-4a41-abd4-740cd320d2a2",
   "metadata": {},
   "source": [
    "##### We can move into renaming the columns to read the codes as the race/ethnicity they represent. Using the columns function and the list function, we can rename the respective names according to the data dictionary."
   ]
  },
  {
   "cell_type": "code",
   "execution_count": 93,
   "id": "26177294-fd4e-4916-bcf3-0d5fa4019e9b",
   "metadata": {},
   "outputs": [
    {
     "data": {
      "text/plain": [
       "['Geo_FIPS',\n",
       " 'SE_T004_019',\n",
       " 'SE_T004_001',\n",
       " 'SE_T004_003',\n",
       " 'SE_T004_005',\n",
       " 'SE_T004_007',\n",
       " 'SE_T004_009',\n",
       " 'SE_T004_011',\n",
       " 'SE_T004_013',\n",
       " 'SE_T004_015',\n",
       " 'SE_T004_017']"
      ]
     },
     "execution_count": 93,
     "metadata": {},
     "output_type": "execute_result"
    }
   ],
   "source": [
    "columns = list(df2)\n",
    "columns"
   ]
  },
  {
   "cell_type": "code",
   "execution_count": 94,
   "id": "013d3cb4-c00b-4f1f-ade2-36d5bfe4c83c",
   "metadata": {},
   "outputs": [],
   "source": [
    "df2.columns = ['FIPS',\n",
    "'TotalPop',\n",
    "'Non Hispanic',\n",
    "'Non Hispanic White Alone',\n",
    "'Non Hispanic Black Alone',\n",
    "'Non Hispanic American Indian and Alaska Native Alone',\n",
    "'Non Hispanic Asian Alone',\n",
    "'Non Hispanic Native Hawaiian and Pacific Islander Alone',\n",
    "'Non Hispanic Other Alone',\n",
    "'Non Hispanic Multi Race',\n",
    "'Hispanic']"
   ]
  },
  {
   "cell_type": "markdown",
   "id": "7d4ede4c-ab3d-498a-8120-11826179bcb2",
   "metadata": {},
   "source": [
    "We can then run the sample code to test if the column renaming worked, and it looks like it did!"
   ]
  },
  {
   "cell_type": "code",
   "execution_count": 95,
   "id": "1e4b212e-7ecd-4c9b-ad2d-7ab844ad0540",
   "metadata": {},
   "outputs": [
    {
     "data": {
      "text/html": [
       "<div>\n",
       "<style scoped>\n",
       "    .dataframe tbody tr th:only-of-type {\n",
       "        vertical-align: middle;\n",
       "    }\n",
       "\n",
       "    .dataframe tbody tr th {\n",
       "        vertical-align: top;\n",
       "    }\n",
       "\n",
       "    .dataframe thead th {\n",
       "        text-align: right;\n",
       "    }\n",
       "</style>\n",
       "<table border=\"1\" class=\"dataframe\">\n",
       "  <thead>\n",
       "    <tr style=\"text-align: right;\">\n",
       "      <th></th>\n",
       "      <th>FIPS</th>\n",
       "      <th>TotalPop</th>\n",
       "      <th>Non Hispanic</th>\n",
       "      <th>Non Hispanic White Alone</th>\n",
       "      <th>Non Hispanic Black Alone</th>\n",
       "      <th>Non Hispanic American Indian and Alaska Native Alone</th>\n",
       "      <th>Non Hispanic Asian Alone</th>\n",
       "      <th>Non Hispanic Native Hawaiian and Pacific Islander Alone</th>\n",
       "      <th>Non Hispanic Other Alone</th>\n",
       "      <th>Non Hispanic Multi Race</th>\n",
       "      <th>Hispanic</th>\n",
       "    </tr>\n",
       "  </thead>\n",
       "  <tbody>\n",
       "    <tr>\n",
       "      <th>196</th>\n",
       "      <td>6037123410</td>\n",
       "      <td>3967</td>\n",
       "      <td>1796</td>\n",
       "      <td>1397</td>\n",
       "      <td>105</td>\n",
       "      <td>4</td>\n",
       "      <td>221</td>\n",
       "      <td>4</td>\n",
       "      <td>21</td>\n",
       "      <td>44</td>\n",
       "      <td>2171</td>\n",
       "    </tr>\n",
       "    <tr>\n",
       "      <th>650</th>\n",
       "      <td>6037211500</td>\n",
       "      <td>4230</td>\n",
       "      <td>3253</td>\n",
       "      <td>1585</td>\n",
       "      <td>143</td>\n",
       "      <td>5</td>\n",
       "      <td>1351</td>\n",
       "      <td>1</td>\n",
       "      <td>14</td>\n",
       "      <td>154</td>\n",
       "      <td>977</td>\n",
       "    </tr>\n",
       "    <tr>\n",
       "      <th>1426</th>\n",
       "      <td>6037432602</td>\n",
       "      <td>4504</td>\n",
       "      <td>2268</td>\n",
       "      <td>166</td>\n",
       "      <td>18</td>\n",
       "      <td>6</td>\n",
       "      <td>2011</td>\n",
       "      <td>3</td>\n",
       "      <td>23</td>\n",
       "      <td>41</td>\n",
       "      <td>2236</td>\n",
       "    </tr>\n",
       "    <tr>\n",
       "      <th>1504</th>\n",
       "      <td>6037464200</td>\n",
       "      <td>5747</td>\n",
       "      <td>5414</td>\n",
       "      <td>1236</td>\n",
       "      <td>11</td>\n",
       "      <td>0</td>\n",
       "      <td>3937</td>\n",
       "      <td>4</td>\n",
       "      <td>17</td>\n",
       "      <td>209</td>\n",
       "      <td>333</td>\n",
       "    </tr>\n",
       "    <tr>\n",
       "      <th>337</th>\n",
       "      <td>6037137302</td>\n",
       "      <td>4341</td>\n",
       "      <td>3918</td>\n",
       "      <td>3092</td>\n",
       "      <td>104</td>\n",
       "      <td>4</td>\n",
       "      <td>463</td>\n",
       "      <td>4</td>\n",
       "      <td>33</td>\n",
       "      <td>218</td>\n",
       "      <td>423</td>\n",
       "    </tr>\n",
       "  </tbody>\n",
       "</table>\n",
       "</div>"
      ],
      "text/plain": [
       "            FIPS  TotalPop  Non Hispanic  Non Hispanic White Alone  \\\n",
       "196   6037123410      3967          1796                      1397   \n",
       "650   6037211500      4230          3253                      1585   \n",
       "1426  6037432602      4504          2268                       166   \n",
       "1504  6037464200      5747          5414                      1236   \n",
       "337   6037137302      4341          3918                      3092   \n",
       "\n",
       "      Non Hispanic Black Alone  \\\n",
       "196                        105   \n",
       "650                        143   \n",
       "1426                        18   \n",
       "1504                        11   \n",
       "337                        104   \n",
       "\n",
       "      Non Hispanic American Indian and Alaska Native Alone  \\\n",
       "196                                                   4      \n",
       "650                                                   5      \n",
       "1426                                                  6      \n",
       "1504                                                  0      \n",
       "337                                                   4      \n",
       "\n",
       "      Non Hispanic Asian Alone  \\\n",
       "196                        221   \n",
       "650                       1351   \n",
       "1426                      2011   \n",
       "1504                      3937   \n",
       "337                        463   \n",
       "\n",
       "      Non Hispanic Native Hawaiian and Pacific Islander Alone  \\\n",
       "196                                                   4         \n",
       "650                                                   1         \n",
       "1426                                                  3         \n",
       "1504                                                  4         \n",
       "337                                                   4         \n",
       "\n",
       "      Non Hispanic Other Alone  Non Hispanic Multi Race  Hispanic  \n",
       "196                         21                       44      2171  \n",
       "650                         14                      154       977  \n",
       "1426                        23                       41      2236  \n",
       "1504                        17                      209       333  \n",
       "337                         33                      218       423  "
      ]
     },
     "execution_count": 95,
     "metadata": {},
     "output_type": "execute_result"
    }
   ],
   "source": [
    "df2.sample(5)"
   ]
  },
  {
   "cell_type": "markdown",
   "id": "c886fca3-625b-49a1-8818-f3d21e041952",
   "metadata": {},
   "source": [
    "##### I'm going to now run some codes to pull statistics for communities of color."
   ]
  },
  {
   "cell_type": "code",
   "execution_count": 96,
   "id": "4296969a-5055-4bb5-ac22-c060e482af7e",
   "metadata": {},
   "outputs": [
    {
     "data": {
      "text/plain": [
       "0    65\n",
       "1    31\n",
       "2    34\n",
       "3    73\n",
       "4    76\n",
       "Name: Non Hispanic Black Alone, dtype: int64"
      ]
     },
     "execution_count": 96,
     "metadata": {},
     "output_type": "execute_result"
    }
   ],
   "source": [
    "df2['Non Hispanic Black Alone'].head()"
   ]
  },
  {
   "cell_type": "code",
   "execution_count": 97,
   "id": "f4f14f53-049a-4d43-93e3-99c2e50a5005",
   "metadata": {},
   "outputs": [
    {
     "data": {
      "text/plain": [
       "0       434\n",
       "1       392\n",
       "2       352\n",
       "3       246\n",
       "4       148\n",
       "       ... \n",
       "2493      0\n",
       "2494      0\n",
       "2495      0\n",
       "2496      0\n",
       "2497      0\n",
       "Name: Non Hispanic Asian Alone, Length: 2498, dtype: int64"
      ]
     },
     "execution_count": 97,
     "metadata": {},
     "output_type": "execute_result"
    }
   ],
   "source": [
    "df2['Non Hispanic Asian Alone']"
   ]
  },
  {
   "cell_type": "code",
   "execution_count": 98,
   "id": "440e8c79-ffa5-4afc-88b1-f140f5bf1300",
   "metadata": {},
   "outputs": [
    {
     "data": {
      "text/plain": [
       "0       8\n",
       "1       0\n",
       "2       0\n",
       "3       3\n",
       "4       0\n",
       "       ..\n",
       "2493    0\n",
       "2494    0\n",
       "2495    0\n",
       "2496    0\n",
       "2497    0\n",
       "Name: Non Hispanic Native Hawaiian and Pacific Islander Alone, Length: 2498, dtype: int64"
      ]
     },
     "execution_count": 98,
     "metadata": {},
     "output_type": "execute_result"
    }
   ],
   "source": [
    "df2['Non Hispanic Native Hawaiian and Pacific Islander Alone']"
   ]
  },
  {
   "cell_type": "markdown",
   "id": "920d9ed5-3dad-475a-94ff-b34f81103384",
   "metadata": {},
   "source": [
    "##### We can also pull some general overall statistics for the data."
   ]
  },
  {
   "cell_type": "code",
   "execution_count": 99,
   "id": "1ae3c7ff-20a2-40f9-b872-6c3e0d7e661c",
   "metadata": {},
   "outputs": [
    {
     "data": {
      "text/plain": [
       "4008.810648518815"
      ]
     },
     "execution_count": 99,
     "metadata": {},
     "output_type": "execute_result"
    }
   ],
   "source": [
    "df2['TotalPop'].mean()"
   ]
  },
  {
   "cell_type": "code",
   "execution_count": 100,
   "id": "e6f527ff-44bc-45a0-8f4f-dc5ea23a700c",
   "metadata": {},
   "outputs": [
    {
     "data": {
      "text/plain": [
       "3905.0"
      ]
     },
     "execution_count": 100,
     "metadata": {},
     "output_type": "execute_result"
    }
   ],
   "source": [
    "df2['TotalPop'].median()"
   ]
  },
  {
   "cell_type": "code",
   "execution_count": 101,
   "id": "d9d3dc9e-b09d-49b3-8c64-d30b14acd118",
   "metadata": {},
   "outputs": [
    {
     "data": {
      "text/plain": [
       "count     2498.000000\n",
       "mean      4008.810649\n",
       "std       1426.474450\n",
       "min          0.000000\n",
       "25%       3036.250000\n",
       "50%       3905.000000\n",
       "75%       4882.000000\n",
       "max      13527.000000\n",
       "Name: TotalPop, dtype: float64"
      ]
     },
     "execution_count": 101,
     "metadata": {},
     "output_type": "execute_result"
    }
   ],
   "source": [
    "df2['TotalPop'].describe()"
   ]
  },
  {
   "cell_type": "markdown",
   "id": "1cff16a2-f1d9-4c20-8ca0-3b7ed2771131",
   "metadata": {},
   "source": [
    "##### The above give overall statistical data. Let's chart some data about the non Hispanic Black population, using a histogram."
   ]
  },
  {
   "cell_type": "code",
   "execution_count": 102,
   "id": "9ac12968-e014-4eb1-b680-5f3cabc4e9b2",
   "metadata": {},
   "outputs": [
    {
     "data": {
      "text/plain": [
       "<Axes: ylabel='Frequency'>"
      ]
     },
     "execution_count": 102,
     "metadata": {},
     "output_type": "execute_result"
    },
    {
     "data": {
      "image/png": "[encoded data removed]",
      "text/plain": [
       "<Figure size 640x480 with 1 Axes>"
      ]
     },
     "metadata": {},
     "output_type": "display_data"
    }
   ],
   "source": [
    "df2['Non Hispanic Black Alone'].plot.hist(bins=25)"
   ]
  },
  {
   "cell_type": "markdown",
   "id": "7f1e4704-4cdb-4a6a-ba98-220fd8fe2311",
   "metadata": {},
   "source": [
    "##### The amount of bars near the 0 show us that there is a high amount of communities that have very few Black folks in them. Let's run a boxplot on this data."
   ]
  },
  {
   "cell_type": "code",
   "execution_count": 103,
   "id": "bdd42532-15e2-41fe-923f-21f82a6a0fd1",
   "metadata": {},
   "outputs": [
    {
     "data": {
      "text/plain": [
       "<Axes: >"
      ]
     },
     "execution_count": 103,
     "metadata": {},
     "output_type": "execute_result"
    },
    {
     "data": {
      "image/png": "[encoded data removed]",
      "text/plain": [
       "<Figure size 640x480 with 1 Axes>"
      ]
     },
     "metadata": {},
     "output_type": "display_data"
    }
   ],
   "source": [
    "df2.boxplot(column=['Non Hispanic Black Alone'])"
   ]
  },
  {
   "cell_type": "markdown",
   "id": "5587a930-efee-4698-a99d-c0d456e4031d",
   "metadata": {},
   "source": [
    "##### Lets compare the total population to the Black population."
   ]
  },
  {
   "cell_type": "code",
   "execution_count": 104,
   "id": "4c432ce2-2e30-4c6c-9f54-bee899ac4da2",
   "metadata": {},
   "outputs": [
    {
     "data": {
      "text/plain": [
       "<Axes: xlabel='Non Hispanic Black Alone', ylabel='TotalPop'>"
      ]
     },
     "execution_count": 104,
     "metadata": {},
     "output_type": "execute_result"
    },
    {
     "data": {
      "image/png": "[encoded data removed]",
      "text/plain": [
       "<Figure size 640x480 with 1 Axes>"
      ]
     },
     "metadata": {},
     "output_type": "display_data"
    }
   ],
   "source": [
    "df2.plot.scatter(x='Non Hispanic Black Alone',y='TotalPop')"
   ]
  },
  {
   "cell_type": "markdown",
   "id": "f78d6df9-4be8-4958-a9d0-eff2f14f1487",
   "metadata": {},
   "source": [
    "##### This data shows the concentration of communities with little to no Black folks. Let's also pull the most population census tracts using the sort function."
   ]
  },
  {
   "cell_type": "code",
   "execution_count": 105,
   "id": "15218e48-30ff-4879-b698-8fa3880c8977",
   "metadata": {},
   "outputs": [
    {
     "data": {
      "text/html": [
       "<div>\n",
       "<style scoped>\n",
       "    .dataframe tbody tr th:only-of-type {\n",
       "        vertical-align: middle;\n",
       "    }\n",
       "\n",
       "    .dataframe tbody tr th {\n",
       "        vertical-align: top;\n",
       "    }\n",
       "\n",
       "    .dataframe thead th {\n",
       "        text-align: right;\n",
       "    }\n",
       "</style>\n",
       "<table border=\"1\" class=\"dataframe\">\n",
       "  <thead>\n",
       "    <tr style=\"text-align: right;\">\n",
       "      <th></th>\n",
       "      <th>FIPS</th>\n",
       "      <th>TotalPop</th>\n",
       "    </tr>\n",
       "  </thead>\n",
       "  <tbody>\n",
       "    <tr>\n",
       "      <th>938</th>\n",
       "      <td>6037265301</td>\n",
       "      <td>13527</td>\n",
       "    </tr>\n",
       "    <tr>\n",
       "      <th>2278</th>\n",
       "      <td>6037702900</td>\n",
       "      <td>11373</td>\n",
       "    </tr>\n",
       "    <tr>\n",
       "      <th>1028</th>\n",
       "      <td>6037275604</td>\n",
       "      <td>10520</td>\n",
       "    </tr>\n",
       "    <tr>\n",
       "      <th>2438</th>\n",
       "      <td>6037920121</td>\n",
       "      <td>10332</td>\n",
       "    </tr>\n",
       "    <tr>\n",
       "      <th>2417</th>\n",
       "      <td>6037920043</td>\n",
       "      <td>8832</td>\n",
       "    </tr>\n",
       "    <tr>\n",
       "      <th>69</th>\n",
       "      <td>6037108202</td>\n",
       "      <td>8701</td>\n",
       "    </tr>\n",
       "    <tr>\n",
       "      <th>1604</th>\n",
       "      <td>6037502303</td>\n",
       "      <td>8396</td>\n",
       "    </tr>\n",
       "    <tr>\n",
       "      <th>1309</th>\n",
       "      <td>6037406103</td>\n",
       "      <td>8353</td>\n",
       "    </tr>\n",
       "    <tr>\n",
       "      <th>1207</th>\n",
       "      <td>6037401707</td>\n",
       "      <td>8320</td>\n",
       "    </tr>\n",
       "    <tr>\n",
       "      <th>2176</th>\n",
       "      <td>6037621201</td>\n",
       "      <td>8259</td>\n",
       "    </tr>\n",
       "  </tbody>\n",
       "</table>\n",
       "</div>"
      ],
      "text/plain": [
       "            FIPS  TotalPop\n",
       "938   6037265301     13527\n",
       "2278  6037702900     11373\n",
       "1028  6037275604     10520\n",
       "2438  6037920121     10332\n",
       "2417  6037920043      8832\n",
       "69    6037108202      8701\n",
       "1604  6037502303      8396\n",
       "1309  6037406103      8353\n",
       "1207  6037401707      8320\n",
       "2176  6037621201      8259"
      ]
     },
     "execution_count": 105,
     "metadata": {},
     "output_type": "execute_result"
    }
   ],
   "source": [
    "df_sorted = df2.sort_values(by='TotalPop',ascending = False)\n",
    "df_sorted[['FIPS','TotalPop']].head(10)"
   ]
  },
  {
   "cell_type": "markdown",
   "id": "534b6eb5-8534-4f24-a1c4-b11b33ac9d63",
   "metadata": {},
   "source": [
    "##### The most populated census tract is the one that covers UCLA! Let's keep going. I want to know the census tracts that have at least 2,500 Black folks in them"
   ]
  },
  {
   "cell_type": "code",
   "execution_count": 106,
   "id": "413de26d-ce94-4501-9e2b-99f76dcdccc1",
   "metadata": {},
   "outputs": [],
   "source": [
    "df_subset = df2[df2['Non Hispanic Black Alone'] > 2500]"
   ]
  },
  {
   "cell_type": "code",
   "execution_count": 107,
   "id": "212f780f-f266-4d80-b350-02ffe4e94cf6",
   "metadata": {},
   "outputs": [
    {
     "data": {
      "text/html": [
       "<div>\n",
       "<style scoped>\n",
       "    .dataframe tbody tr th:only-of-type {\n",
       "        vertical-align: middle;\n",
       "    }\n",
       "\n",
       "    .dataframe tbody tr th {\n",
       "        vertical-align: top;\n",
       "    }\n",
       "\n",
       "    .dataframe thead th {\n",
       "        text-align: right;\n",
       "    }\n",
       "</style>\n",
       "<table border=\"1\" class=\"dataframe\">\n",
       "  <thead>\n",
       "    <tr style=\"text-align: right;\">\n",
       "      <th></th>\n",
       "      <th>FIPS</th>\n",
       "      <th>TotalPop</th>\n",
       "      <th>Non Hispanic</th>\n",
       "      <th>Non Hispanic White Alone</th>\n",
       "      <th>Non Hispanic Black Alone</th>\n",
       "      <th>Non Hispanic American Indian and Alaska Native Alone</th>\n",
       "      <th>Non Hispanic Asian Alone</th>\n",
       "      <th>Non Hispanic Native Hawaiian and Pacific Islander Alone</th>\n",
       "      <th>Non Hispanic Other Alone</th>\n",
       "      <th>Non Hispanic Multi Race</th>\n",
       "      <th>Hispanic</th>\n",
       "    </tr>\n",
       "  </thead>\n",
       "  <tbody>\n",
       "    <tr>\n",
       "      <th>832</th>\n",
       "      <td>6037234600</td>\n",
       "      <td>5106</td>\n",
       "      <td>3275</td>\n",
       "      <td>284</td>\n",
       "      <td>2532</td>\n",
       "      <td>11</td>\n",
       "      <td>81</td>\n",
       "      <td>8</td>\n",
       "      <td>61</td>\n",
       "      <td>298</td>\n",
       "      <td>1831</td>\n",
       "    </tr>\n",
       "    <tr>\n",
       "      <th>837</th>\n",
       "      <td>6037235100</td>\n",
       "      <td>4690</td>\n",
       "      <td>3689</td>\n",
       "      <td>489</td>\n",
       "      <td>2721</td>\n",
       "      <td>5</td>\n",
       "      <td>135</td>\n",
       "      <td>6</td>\n",
       "      <td>40</td>\n",
       "      <td>293</td>\n",
       "      <td>1001</td>\n",
       "    </tr>\n",
       "    <tr>\n",
       "      <th>839</th>\n",
       "      <td>6037235202</td>\n",
       "      <td>4765</td>\n",
       "      <td>3041</td>\n",
       "      <td>92</td>\n",
       "      <td>2662</td>\n",
       "      <td>12</td>\n",
       "      <td>55</td>\n",
       "      <td>4</td>\n",
       "      <td>38</td>\n",
       "      <td>178</td>\n",
       "      <td>1724</td>\n",
       "    </tr>\n",
       "    <tr>\n",
       "      <th>847</th>\n",
       "      <td>6037236400</td>\n",
       "      <td>4346</td>\n",
       "      <td>3953</td>\n",
       "      <td>404</td>\n",
       "      <td>3164</td>\n",
       "      <td>3</td>\n",
       "      <td>119</td>\n",
       "      <td>3</td>\n",
       "      <td>45</td>\n",
       "      <td>215</td>\n",
       "      <td>393</td>\n",
       "    </tr>\n",
       "    <tr>\n",
       "      <th>852</th>\n",
       "      <td>6037237300</td>\n",
       "      <td>5531</td>\n",
       "      <td>2912</td>\n",
       "      <td>101</td>\n",
       "      <td>2535</td>\n",
       "      <td>5</td>\n",
       "      <td>42</td>\n",
       "      <td>6</td>\n",
       "      <td>37</td>\n",
       "      <td>186</td>\n",
       "      <td>2619</td>\n",
       "    </tr>\n",
       "    <tr>\n",
       "      <th>861</th>\n",
       "      <td>6037238000</td>\n",
       "      <td>5969</td>\n",
       "      <td>4403</td>\n",
       "      <td>105</td>\n",
       "      <td>3972</td>\n",
       "      <td>18</td>\n",
       "      <td>43</td>\n",
       "      <td>20</td>\n",
       "      <td>53</td>\n",
       "      <td>192</td>\n",
       "      <td>1566</td>\n",
       "    </tr>\n",
       "    <tr>\n",
       "      <th>862</th>\n",
       "      <td>6037238100</td>\n",
       "      <td>4683</td>\n",
       "      <td>3378</td>\n",
       "      <td>109</td>\n",
       "      <td>2968</td>\n",
       "      <td>17</td>\n",
       "      <td>38</td>\n",
       "      <td>8</td>\n",
       "      <td>60</td>\n",
       "      <td>178</td>\n",
       "      <td>1305</td>\n",
       "    </tr>\n",
       "    <tr>\n",
       "      <th>863</th>\n",
       "      <td>6037238200</td>\n",
       "      <td>5848</td>\n",
       "      <td>4020</td>\n",
       "      <td>103</td>\n",
       "      <td>3590</td>\n",
       "      <td>17</td>\n",
       "      <td>42</td>\n",
       "      <td>19</td>\n",
       "      <td>51</td>\n",
       "      <td>198</td>\n",
       "      <td>1828</td>\n",
       "    </tr>\n",
       "    <tr>\n",
       "      <th>866</th>\n",
       "      <td>6037238400</td>\n",
       "      <td>4632</td>\n",
       "      <td>3447</td>\n",
       "      <td>96</td>\n",
       "      <td>3079</td>\n",
       "      <td>7</td>\n",
       "      <td>37</td>\n",
       "      <td>3</td>\n",
       "      <td>33</td>\n",
       "      <td>192</td>\n",
       "      <td>1185</td>\n",
       "    </tr>\n",
       "    <tr>\n",
       "      <th>1778</th>\n",
       "      <td>6037540800</td>\n",
       "      <td>6321</td>\n",
       "      <td>3051</td>\n",
       "      <td>70</td>\n",
       "      <td>2758</td>\n",
       "      <td>12</td>\n",
       "      <td>56</td>\n",
       "      <td>10</td>\n",
       "      <td>28</td>\n",
       "      <td>117</td>\n",
       "      <td>3270</td>\n",
       "    </tr>\n",
       "    <tr>\n",
       "      <th>1783</th>\n",
       "      <td>6037541200</td>\n",
       "      <td>6048</td>\n",
       "      <td>3510</td>\n",
       "      <td>47</td>\n",
       "      <td>3204</td>\n",
       "      <td>15</td>\n",
       "      <td>30</td>\n",
       "      <td>25</td>\n",
       "      <td>45</td>\n",
       "      <td>144</td>\n",
       "      <td>2538</td>\n",
       "    </tr>\n",
       "    <tr>\n",
       "      <th>1811</th>\n",
       "      <td>6037543100</td>\n",
       "      <td>6988</td>\n",
       "      <td>2790</td>\n",
       "      <td>65</td>\n",
       "      <td>2524</td>\n",
       "      <td>11</td>\n",
       "      <td>29</td>\n",
       "      <td>25</td>\n",
       "      <td>21</td>\n",
       "      <td>115</td>\n",
       "      <td>4198</td>\n",
       "    </tr>\n",
       "    <tr>\n",
       "      <th>1814</th>\n",
       "      <td>6037543304</td>\n",
       "      <td>6339</td>\n",
       "      <td>5582</td>\n",
       "      <td>123</td>\n",
       "      <td>4914</td>\n",
       "      <td>9</td>\n",
       "      <td>241</td>\n",
       "      <td>46</td>\n",
       "      <td>35</td>\n",
       "      <td>214</td>\n",
       "      <td>757</td>\n",
       "    </tr>\n",
       "    <tr>\n",
       "      <th>1817</th>\n",
       "      <td>6037543321</td>\n",
       "      <td>6034</td>\n",
       "      <td>4869</td>\n",
       "      <td>384</td>\n",
       "      <td>3257</td>\n",
       "      <td>21</td>\n",
       "      <td>875</td>\n",
       "      <td>52</td>\n",
       "      <td>29</td>\n",
       "      <td>251</td>\n",
       "      <td>1165</td>\n",
       "    </tr>\n",
       "    <tr>\n",
       "      <th>1818</th>\n",
       "      <td>6037543322</td>\n",
       "      <td>6844</td>\n",
       "      <td>5865</td>\n",
       "      <td>197</td>\n",
       "      <td>4715</td>\n",
       "      <td>9</td>\n",
       "      <td>544</td>\n",
       "      <td>93</td>\n",
       "      <td>54</td>\n",
       "      <td>253</td>\n",
       "      <td>979</td>\n",
       "    </tr>\n",
       "    <tr>\n",
       "      <th>1955</th>\n",
       "      <td>6037570603</td>\n",
       "      <td>5391</td>\n",
       "      <td>3673</td>\n",
       "      <td>292</td>\n",
       "      <td>2733</td>\n",
       "      <td>11</td>\n",
       "      <td>243</td>\n",
       "      <td>112</td>\n",
       "      <td>36</td>\n",
       "      <td>246</td>\n",
       "      <td>1718</td>\n",
       "    </tr>\n",
       "    <tr>\n",
       "      <th>2063</th>\n",
       "      <td>6037600202</td>\n",
       "      <td>7071</td>\n",
       "      <td>2905</td>\n",
       "      <td>95</td>\n",
       "      <td>2510</td>\n",
       "      <td>8</td>\n",
       "      <td>32</td>\n",
       "      <td>33</td>\n",
       "      <td>37</td>\n",
       "      <td>190</td>\n",
       "      <td>4166</td>\n",
       "    </tr>\n",
       "    <tr>\n",
       "      <th>2067</th>\n",
       "      <td>6037600400</td>\n",
       "      <td>3988</td>\n",
       "      <td>3171</td>\n",
       "      <td>80</td>\n",
       "      <td>2844</td>\n",
       "      <td>5</td>\n",
       "      <td>52</td>\n",
       "      <td>5</td>\n",
       "      <td>28</td>\n",
       "      <td>157</td>\n",
       "      <td>817</td>\n",
       "    </tr>\n",
       "    <tr>\n",
       "      <th>2071</th>\n",
       "      <td>6037600702</td>\n",
       "      <td>4182</td>\n",
       "      <td>3535</td>\n",
       "      <td>122</td>\n",
       "      <td>3138</td>\n",
       "      <td>8</td>\n",
       "      <td>61</td>\n",
       "      <td>3</td>\n",
       "      <td>52</td>\n",
       "      <td>151</td>\n",
       "      <td>647</td>\n",
       "    </tr>\n",
       "    <tr>\n",
       "      <th>2076</th>\n",
       "      <td>6037600902</td>\n",
       "      <td>6798</td>\n",
       "      <td>3603</td>\n",
       "      <td>299</td>\n",
       "      <td>2868</td>\n",
       "      <td>9</td>\n",
       "      <td>102</td>\n",
       "      <td>11</td>\n",
       "      <td>63</td>\n",
       "      <td>251</td>\n",
       "      <td>3195</td>\n",
       "    </tr>\n",
       "    <tr>\n",
       "      <th>2086</th>\n",
       "      <td>6037601302</td>\n",
       "      <td>6785</td>\n",
       "      <td>4524</td>\n",
       "      <td>469</td>\n",
       "      <td>3405</td>\n",
       "      <td>21</td>\n",
       "      <td>195</td>\n",
       "      <td>10</td>\n",
       "      <td>73</td>\n",
       "      <td>351</td>\n",
       "      <td>2261</td>\n",
       "    </tr>\n",
       "    <tr>\n",
       "      <th>2113</th>\n",
       "      <td>6037602507</td>\n",
       "      <td>5321</td>\n",
       "      <td>3402</td>\n",
       "      <td>237</td>\n",
       "      <td>2624</td>\n",
       "      <td>11</td>\n",
       "      <td>273</td>\n",
       "      <td>35</td>\n",
       "      <td>49</td>\n",
       "      <td>173</td>\n",
       "      <td>1919</td>\n",
       "    </tr>\n",
       "    <tr>\n",
       "      <th>2118</th>\n",
       "      <td>6037602601</td>\n",
       "      <td>4784</td>\n",
       "      <td>3772</td>\n",
       "      <td>169</td>\n",
       "      <td>3113</td>\n",
       "      <td>12</td>\n",
       "      <td>235</td>\n",
       "      <td>20</td>\n",
       "      <td>25</td>\n",
       "      <td>198</td>\n",
       "      <td>1012</td>\n",
       "    </tr>\n",
       "    <tr>\n",
       "      <th>2279</th>\n",
       "      <td>6037703002</td>\n",
       "      <td>6907</td>\n",
       "      <td>6387</td>\n",
       "      <td>1048</td>\n",
       "      <td>4410</td>\n",
       "      <td>16</td>\n",
       "      <td>362</td>\n",
       "      <td>2</td>\n",
       "      <td>89</td>\n",
       "      <td>460</td>\n",
       "      <td>520</td>\n",
       "    </tr>\n",
       "    <tr>\n",
       "      <th>2281</th>\n",
       "      <td>6037703100</td>\n",
       "      <td>5619</td>\n",
       "      <td>5040</td>\n",
       "      <td>511</td>\n",
       "      <td>3849</td>\n",
       "      <td>6</td>\n",
       "      <td>170</td>\n",
       "      <td>5</td>\n",
       "      <td>48</td>\n",
       "      <td>451</td>\n",
       "      <td>579</td>\n",
       "    </tr>\n",
       "    <tr>\n",
       "      <th>2282</th>\n",
       "      <td>6037703200</td>\n",
       "      <td>5800</td>\n",
       "      <td>5281</td>\n",
       "      <td>493</td>\n",
       "      <td>4199</td>\n",
       "      <td>3</td>\n",
       "      <td>149</td>\n",
       "      <td>5</td>\n",
       "      <td>39</td>\n",
       "      <td>393</td>\n",
       "      <td>519</td>\n",
       "    </tr>\n",
       "  </tbody>\n",
       "</table>\n",
       "</div>"
      ],
      "text/plain": [
       "            FIPS  TotalPop  Non Hispanic  Non Hispanic White Alone  \\\n",
       "832   6037234600      5106          3275                       284   \n",
       "837   6037235100      4690          3689                       489   \n",
       "839   6037235202      4765          3041                        92   \n",
       "847   6037236400      4346          3953                       404   \n",
       "852   6037237300      5531          2912                       101   \n",
       "861   6037238000      5969          4403                       105   \n",
       "862   6037238100      4683          3378                       109   \n",
       "863   6037238200      5848          4020                       103   \n",
       "866   6037238400      4632          3447                        96   \n",
       "1778  6037540800      6321          3051                        70   \n",
       "1783  6037541200      6048          3510                        47   \n",
       "1811  6037543100      6988          2790                        65   \n",
       "1814  6037543304      6339          5582                       123   \n",
       "1817  6037543321      6034          4869                       384   \n",
       "1818  6037543322      6844          5865                       197   \n",
       "1955  6037570603      5391          3673                       292   \n",
       "2063  6037600202      7071          2905                        95   \n",
       "2067  6037600400      3988          3171                        80   \n",
       "2071  6037600702      4182          3535                       122   \n",
       "2076  6037600902      6798          3603                       299   \n",
       "2086  6037601302      6785          4524                       469   \n",
       "2113  6037602507      5321          3402                       237   \n",
       "2118  6037602601      4784          3772                       169   \n",
       "2279  6037703002      6907          6387                      1048   \n",
       "2281  6037703100      5619          5040                       511   \n",
       "2282  6037703200      5800          5281                       493   \n",
       "\n",
       "      Non Hispanic Black Alone  \\\n",
       "832                       2532   \n",
       "837                       2721   \n",
       "839                       2662   \n",
       "847                       3164   \n",
       "852                       2535   \n",
       "861                       3972   \n",
       "862                       2968   \n",
       "863                       3590   \n",
       "866                       3079   \n",
       "1778                      2758   \n",
       "1783                      3204   \n",
       "1811                      2524   \n",
       "1814                      4914   \n",
       "1817                      3257   \n",
       "1818                      4715   \n",
       "1955                      2733   \n",
       "2063                      2510   \n",
       "2067                      2844   \n",
       "2071                      3138   \n",
       "2076                      2868   \n",
       "2086                      3405   \n",
       "2113                      2624   \n",
       "2118                      3113   \n",
       "2279                      4410   \n",
       "2281                      3849   \n",
       "2282                      4199   \n",
       "\n",
       "      Non Hispanic American Indian and Alaska Native Alone  \\\n",
       "832                                                  11      \n",
       "837                                                   5      \n",
       "839                                                  12      \n",
       "847                                                   3      \n",
       "852                                                   5      \n",
       "861                                                  18      \n",
       "862                                                  17      \n",
       "863                                                  17      \n",
       "866                                                   7      \n",
       "1778                                                 12      \n",
       "1783                                                 15      \n",
       "1811                                                 11      \n",
       "1814                                                  9      \n",
       "1817                                                 21      \n",
       "1818                                                  9      \n",
       "1955                                                 11      \n",
       "2063                                                  8      \n",
       "2067                                                  5      \n",
       "2071                                                  8      \n",
       "2076                                                  9      \n",
       "2086                                                 21      \n",
       "2113                                                 11      \n",
       "2118                                                 12      \n",
       "2279                                                 16      \n",
       "2281                                                  6      \n",
       "2282                                                  3      \n",
       "\n",
       "      Non Hispanic Asian Alone  \\\n",
       "832                         81   \n",
       "837                        135   \n",
       "839                         55   \n",
       "847                        119   \n",
       "852                         42   \n",
       "861                         43   \n",
       "862                         38   \n",
       "863                         42   \n",
       "866                         37   \n",
       "1778                        56   \n",
       "1783                        30   \n",
       "1811                        29   \n",
       "1814                       241   \n",
       "1817                       875   \n",
       "1818                       544   \n",
       "1955                       243   \n",
       "2063                        32   \n",
       "2067                        52   \n",
       "2071                        61   \n",
       "2076                       102   \n",
       "2086                       195   \n",
       "2113                       273   \n",
       "2118                       235   \n",
       "2279                       362   \n",
       "2281                       170   \n",
       "2282                       149   \n",
       "\n",
       "      Non Hispanic Native Hawaiian and Pacific Islander Alone  \\\n",
       "832                                                   8         \n",
       "837                                                   6         \n",
       "839                                                   4         \n",
       "847                                                   3         \n",
       "852                                                   6         \n",
       "861                                                  20         \n",
       "862                                                   8         \n",
       "863                                                  19         \n",
       "866                                                   3         \n",
       "1778                                                 10         \n",
       "1783                                                 25         \n",
       "1811                                                 25         \n",
       "1814                                                 46         \n",
       "1817                                                 52         \n",
       "1818                                                 93         \n",
       "1955                                                112         \n",
       "2063                                                 33         \n",
       "2067                                                  5         \n",
       "2071                                                  3         \n",
       "2076                                                 11         \n",
       "2086                                                 10         \n",
       "2113                                                 35         \n",
       "2118                                                 20         \n",
       "2279                                                  2         \n",
       "2281                                                  5         \n",
       "2282                                                  5         \n",
       "\n",
       "      Non Hispanic Other Alone  Non Hispanic Multi Race  Hispanic  \n",
       "832                         61                      298      1831  \n",
       "837                         40                      293      1001  \n",
       "839                         38                      178      1724  \n",
       "847                         45                      215       393  \n",
       "852                         37                      186      2619  \n",
       "861                         53                      192      1566  \n",
       "862                         60                      178      1305  \n",
       "863                         51                      198      1828  \n",
       "866                         33                      192      1185  \n",
       "1778                        28                      117      3270  \n",
       "1783                        45                      144      2538  \n",
       "1811                        21                      115      4198  \n",
       "1814                        35                      214       757  \n",
       "1817                        29                      251      1165  \n",
       "1818                        54                      253       979  \n",
       "1955                        36                      246      1718  \n",
       "2063                        37                      190      4166  \n",
       "2067                        28                      157       817  \n",
       "2071                        52                      151       647  \n",
       "2076                        63                      251      3195  \n",
       "2086                        73                      351      2261  \n",
       "2113                        49                      173      1919  \n",
       "2118                        25                      198      1012  \n",
       "2279                        89                      460       520  \n",
       "2281                        48                      451       579  \n",
       "2282                        39                      393       519  "
      ]
     },
     "execution_count": 107,
     "metadata": {},
     "output_type": "execute_result"
    }
   ],
   "source": [
    "df_subset"
   ]
  },
  {
   "cell_type": "markdown",
   "id": "c56b889e-793f-4eec-8e81-86519d41e23b",
   "metadata": {},
   "source": [
    "### Mapping the Data"
   ]
  },
  {
   "cell_type": "markdown",
   "id": "ac5662ce-9be4-4047-9b4e-18fead5138ce",
   "metadata": {},
   "source": [
    "##### We are going to import a geojson file from the LA Times with all of the census tract data we need."
   ]
  },
  {
   "cell_type": "code",
   "execution_count": 108,
   "id": "e7712b0f-5e96-43a8-b104-00f4eda5fde7",
   "metadata": {},
   "outputs": [],
   "source": [
    "tracts=gpd.read_file('data/Census_Tracts_2020.geojson')"
   ]
  },
  {
   "cell_type": "code",
   "execution_count": 109,
   "id": "34b7ee73-e15e-4a23-be0c-1e92f9f5f464",
   "metadata": {},
   "outputs": [
    {
     "data": {
      "text/html": [
       "<div>\n",
       "<style scoped>\n",
       "    .dataframe tbody tr th:only-of-type {\n",
       "        vertical-align: middle;\n",
       "    }\n",
       "\n",
       "    .dataframe tbody tr th {\n",
       "        vertical-align: top;\n",
       "    }\n",
       "\n",
       "    .dataframe thead th {\n",
       "        text-align: right;\n",
       "    }\n",
       "</style>\n",
       "<table border=\"1\" class=\"dataframe\">\n",
       "  <thead>\n",
       "    <tr style=\"text-align: right;\">\n",
       "      <th></th>\n",
       "      <th>OBJECTID</th>\n",
       "      <th>CT20</th>\n",
       "      <th>LABEL</th>\n",
       "      <th>ShapeSTArea</th>\n",
       "      <th>ShapeSTLength</th>\n",
       "      <th>geometry</th>\n",
       "    </tr>\n",
       "  </thead>\n",
       "  <tbody>\n",
       "    <tr>\n",
       "      <th>0</th>\n",
       "      <td>1</td>\n",
       "      <td>101110</td>\n",
       "      <td>1011.10</td>\n",
       "      <td>1.229562e+07</td>\n",
       "      <td>15083.854287</td>\n",
       "      <td>POLYGON ((-118.28491 34.25948, -118.28492 34.2...</td>\n",
       "    </tr>\n",
       "    <tr>\n",
       "      <th>1</th>\n",
       "      <td>2</td>\n",
       "      <td>101122</td>\n",
       "      <td>1011.22</td>\n",
       "      <td>2.845774e+07</td>\n",
       "      <td>31671.455844</td>\n",
       "      <td>POLYGON ((-118.29015 34.27417, -118.29015 34.2...</td>\n",
       "    </tr>\n",
       "    <tr>\n",
       "      <th>2</th>\n",
       "      <td>3</td>\n",
       "      <td>101220</td>\n",
       "      <td>1012.20</td>\n",
       "      <td>7.522093e+06</td>\n",
       "      <td>12698.783810</td>\n",
       "      <td>POLYGON ((-118.28100 34.25592, -118.28198 34.2...</td>\n",
       "    </tr>\n",
       "    <tr>\n",
       "      <th>3</th>\n",
       "      <td>4</td>\n",
       "      <td>101221</td>\n",
       "      <td>1012.21</td>\n",
       "      <td>3.812000e+06</td>\n",
       "      <td>9161.710543</td>\n",
       "      <td>POLYGON ((-118.28735 34.25591, -118.28863 34.2...</td>\n",
       "    </tr>\n",
       "    <tr>\n",
       "      <th>4</th>\n",
       "      <td>5</td>\n",
       "      <td>101222</td>\n",
       "      <td>1012.22</td>\n",
       "      <td>3.191371e+06</td>\n",
       "      <td>9980.600461</td>\n",
       "      <td>POLYGON ((-118.28594 34.25405, -118.28594 34.2...</td>\n",
       "    </tr>\n",
       "  </tbody>\n",
       "</table>\n",
       "</div>"
      ],
      "text/plain": [
       "   OBJECTID    CT20    LABEL   ShapeSTArea  ShapeSTLength  \\\n",
       "0         1  101110  1011.10  1.229562e+07   15083.854287   \n",
       "1         2  101122  1011.22  2.845774e+07   31671.455844   \n",
       "2         3  101220  1012.20  7.522093e+06   12698.783810   \n",
       "3         4  101221  1012.21  3.812000e+06    9161.710543   \n",
       "4         5  101222  1012.22  3.191371e+06    9980.600461   \n",
       "\n",
       "                                            geometry  \n",
       "0  POLYGON ((-118.28491 34.25948, -118.28492 34.2...  \n",
       "1  POLYGON ((-118.29015 34.27417, -118.29015 34.2...  \n",
       "2  POLYGON ((-118.28100 34.25592, -118.28198 34.2...  \n",
       "3  POLYGON ((-118.28735 34.25591, -118.28863 34.2...  \n",
       "4  POLYGON ((-118.28594 34.25405, -118.28594 34.2...  "
      ]
     },
     "execution_count": 109,
     "metadata": {},
     "output_type": "execute_result"
    }
   ],
   "source": [
    "tracts.head()"
   ]
  },
  {
   "cell_type": "code",
   "execution_count": 110,
   "id": "8a40b38a-0b62-4134-ba09-b5fa7ca04b4c",
   "metadata": {},
   "outputs": [
    {
     "data": {
      "text/plain": [
       "<Axes: >"
      ]
     },
     "execution_count": 110,
     "metadata": {},
     "output_type": "execute_result"
    },
    {
     "data": {
      "image/png": "[encoded data removed]",
      "text/plain": [
       "<Figure size 1200x1000 with 1 Axes>"
      ]
     },
     "metadata": {},
     "output_type": "display_data"
    }
   ],
   "source": [
    "tracts.plot(figsize=(12,10))"
   ]
  },
  {
   "cell_type": "markdown",
   "id": "de242ac0-4c15-46f0-b056-60a2936d7402",
   "metadata": {},
   "source": [
    "##### This is the census data from the LA Times, mapped, giving us the context of information we need to code. We are then to isolate the certain number of columns we need from the data, which are FIPS and geometry. We'll also check our work at the end, as well as add back in our leading zero."
   ]
  },
  {
   "cell_type": "code",
   "execution_count": 111,
   "id": "8d9b6a8e-d735-4205-b279-7d9fd1c8bc40",
   "metadata": {},
   "outputs": [
    {
     "data": {
      "text/html": [
       "<div>\n",
       "<style scoped>\n",
       "    .dataframe tbody tr th:only-of-type {\n",
       "        vertical-align: middle;\n",
       "    }\n",
       "\n",
       "    .dataframe tbody tr th {\n",
       "        vertical-align: top;\n",
       "    }\n",
       "\n",
       "    .dataframe thead th {\n",
       "        text-align: right;\n",
       "    }\n",
       "</style>\n",
       "<table border=\"1\" class=\"dataframe\">\n",
       "  <thead>\n",
       "    <tr style=\"text-align: right;\">\n",
       "      <th></th>\n",
       "      <th>CT20</th>\n",
       "      <th>geometry</th>\n",
       "    </tr>\n",
       "  </thead>\n",
       "  <tbody>\n",
       "    <tr>\n",
       "      <th>0</th>\n",
       "      <td>101110</td>\n",
       "      <td>POLYGON ((-118.28491 34.25948, -118.28492 34.2...</td>\n",
       "    </tr>\n",
       "    <tr>\n",
       "      <th>1</th>\n",
       "      <td>101122</td>\n",
       "      <td>POLYGON ((-118.29015 34.27417, -118.29015 34.2...</td>\n",
       "    </tr>\n",
       "    <tr>\n",
       "      <th>2</th>\n",
       "      <td>101220</td>\n",
       "      <td>POLYGON ((-118.28100 34.25592, -118.28198 34.2...</td>\n",
       "    </tr>\n",
       "    <tr>\n",
       "      <th>3</th>\n",
       "      <td>101221</td>\n",
       "      <td>POLYGON ((-118.28735 34.25591, -118.28863 34.2...</td>\n",
       "    </tr>\n",
       "    <tr>\n",
       "      <th>4</th>\n",
       "      <td>101222</td>\n",
       "      <td>POLYGON ((-118.28594 34.25405, -118.28594 34.2...</td>\n",
       "    </tr>\n",
       "  </tbody>\n",
       "</table>\n",
       "</div>"
      ],
      "text/plain": [
       "     CT20                                           geometry\n",
       "0  101110  POLYGON ((-118.28491 34.25948, -118.28492 34.2...\n",
       "1  101122  POLYGON ((-118.29015 34.27417, -118.29015 34.2...\n",
       "2  101220  POLYGON ((-118.28100 34.25592, -118.28198 34.2...\n",
       "3  101221  POLYGON ((-118.28735 34.25591, -118.28863 34.2...\n",
       "4  101222  POLYGON ((-118.28594 34.25405, -118.28594 34.2..."
      ]
     },
     "execution_count": 111,
     "metadata": {},
     "output_type": "execute_result"
    }
   ],
   "source": [
    "tracts = tracts[['CT20','geometry']]\n",
    "tracts.head()"
   ]
  },
  {
   "cell_type": "code",
   "execution_count": 112,
   "id": "cad5216f-ea06-40a2-8441-5ef8022c924e",
   "metadata": {},
   "outputs": [
    {
     "name": "stderr",
     "output_type": "stream",
     "text": [
      "/opt/conda/lib/python3.11/site-packages/geopandas/geodataframe.py:1543: SettingWithCopyWarning: \n",
      "A value is trying to be set on a copy of a slice from a DataFrame.\n",
      "Try using .loc[row_indexer,col_indexer] = value instead\n",
      "\n",
      "See the caveats in the documentation: https://pandas.pydata.org/pandas-docs/stable/user_guide/indexing.html#returning-a-view-versus-a-copy\n",
      "  super().__setitem__(key, value)\n"
     ]
    }
   ],
   "source": [
    "tracts['FIPS'] ='06' + '037' + tracts['CT20']"
   ]
  },
  {
   "cell_type": "code",
   "execution_count": 113,
   "id": "7c9d7e6a-6b1b-49b9-bfc7-38bfd1ae0e0f",
   "metadata": {},
   "outputs": [
    {
     "data": {
      "text/html": [
       "<div>\n",
       "<style scoped>\n",
       "    .dataframe tbody tr th:only-of-type {\n",
       "        vertical-align: middle;\n",
       "    }\n",
       "\n",
       "    .dataframe tbody tr th {\n",
       "        vertical-align: top;\n",
       "    }\n",
       "\n",
       "    .dataframe thead th {\n",
       "        text-align: right;\n",
       "    }\n",
       "</style>\n",
       "<table border=\"1\" class=\"dataframe\">\n",
       "  <thead>\n",
       "    <tr style=\"text-align: right;\">\n",
       "      <th></th>\n",
       "      <th>CT20</th>\n",
       "      <th>geometry</th>\n",
       "      <th>FIPS</th>\n",
       "    </tr>\n",
       "  </thead>\n",
       "  <tbody>\n",
       "    <tr>\n",
       "      <th>0</th>\n",
       "      <td>101110</td>\n",
       "      <td>POLYGON ((-118.28491 34.25948, -118.28492 34.2...</td>\n",
       "      <td>06037101110</td>\n",
       "    </tr>\n",
       "    <tr>\n",
       "      <th>1</th>\n",
       "      <td>101122</td>\n",
       "      <td>POLYGON ((-118.29015 34.27417, -118.29015 34.2...</td>\n",
       "      <td>06037101122</td>\n",
       "    </tr>\n",
       "    <tr>\n",
       "      <th>2</th>\n",
       "      <td>101220</td>\n",
       "      <td>POLYGON ((-118.28100 34.25592, -118.28198 34.2...</td>\n",
       "      <td>06037101220</td>\n",
       "    </tr>\n",
       "    <tr>\n",
       "      <th>3</th>\n",
       "      <td>101221</td>\n",
       "      <td>POLYGON ((-118.28735 34.25591, -118.28863 34.2...</td>\n",
       "      <td>06037101221</td>\n",
       "    </tr>\n",
       "    <tr>\n",
       "      <th>4</th>\n",
       "      <td>101222</td>\n",
       "      <td>POLYGON ((-118.28594 34.25405, -118.28594 34.2...</td>\n",
       "      <td>06037101222</td>\n",
       "    </tr>\n",
       "  </tbody>\n",
       "</table>\n",
       "</div>"
      ],
      "text/plain": [
       "     CT20                                           geometry         FIPS\n",
       "0  101110  POLYGON ((-118.28491 34.25948, -118.28492 34.2...  06037101110\n",
       "1  101122  POLYGON ((-118.29015 34.27417, -118.29015 34.2...  06037101122\n",
       "2  101220  POLYGON ((-118.28100 34.25592, -118.28198 34.2...  06037101220\n",
       "3  101221  POLYGON ((-118.28735 34.25591, -118.28863 34.2...  06037101221\n",
       "4  101222  POLYGON ((-118.28594 34.25405, -118.28594 34.2...  06037101222"
      ]
     },
     "execution_count": 113,
     "metadata": {},
     "output_type": "execute_result"
    }
   ],
   "source": [
    "tracts.head()"
   ]
  },
  {
   "cell_type": "markdown",
   "id": "37b37061-2405-488a-8916-5c2b1fe7fcb4",
   "metadata": {},
   "source": [
    "##### From here, we will essentially merge the geometry of the census tracts with the geo_id codes in the data, so we can then proceed to map our data."
   ]
  },
  {
   "cell_type": "code",
   "execution_count": 114,
   "id": "9d163288-9581-4be9-8edb-7c72ff4012e1",
   "metadata": {},
   "outputs": [
    {
     "ename": "ValueError",
     "evalue": "You are trying to merge on object and int64 columns for key 'FIPS'. If you wish to proceed you should use pd.concat",
     "output_type": "error",
     "traceback": [
      "\u001b[0;31m---------------------------------------------------------------------------\u001b[0m",
      "\u001b[0;31mValueError\u001b[0m                                Traceback (most recent call last)",
      "Cell \u001b[0;32mIn[114], line 1\u001b[0m\n\u001b[0;32m----> 1\u001b[0m tracts_race\u001b[38;5;241m=\u001b[39m\u001b[43mtracts\u001b[49m\u001b[38;5;241;43m.\u001b[39;49m\u001b[43mmerge\u001b[49m\u001b[43m(\u001b[49m\u001b[43mdf2\u001b[49m\u001b[43m,\u001b[49m\u001b[43mon\u001b[49m\u001b[38;5;241;43m=\u001b[39;49m\u001b[38;5;124;43m\"\u001b[39;49m\u001b[38;5;124;43mFIPS\u001b[39;49m\u001b[38;5;124;43m\"\u001b[39;49m\u001b[43m)\u001b[49m\n",
      "File \u001b[0;32m/opt/conda/lib/python3.11/site-packages/geopandas/geodataframe.py:1574\u001b[0m, in \u001b[0;36mGeoDataFrame.merge\u001b[0;34m(self, *args, **kwargs)\u001b[0m\n\u001b[1;32m   1556\u001b[0m \u001b[38;5;28;01mdef\u001b[39;00m \u001b[38;5;21mmerge\u001b[39m(\u001b[38;5;28mself\u001b[39m, \u001b[38;5;241m*\u001b[39margs, \u001b[38;5;241m*\u001b[39m\u001b[38;5;241m*\u001b[39mkwargs):\n\u001b[1;32m   1557\u001b[0m \u001b[38;5;250m    \u001b[39m\u001b[38;5;124mr\u001b[39m\u001b[38;5;124;03m\"\"\"Merge two ``GeoDataFrame`` objects with a database-style join.\u001b[39;00m\n\u001b[1;32m   1558\u001b[0m \n\u001b[1;32m   1559\u001b[0m \u001b[38;5;124;03m    Returns a ``GeoDataFrame`` if a geometry column is present; otherwise,\u001b[39;00m\n\u001b[0;32m   (...)\u001b[0m\n\u001b[1;32m   1572\u001b[0m \u001b[38;5;124;03m    for more details.\u001b[39;00m\n\u001b[1;32m   1573\u001b[0m \u001b[38;5;124;03m    \"\"\"\u001b[39;00m\n\u001b[0;32m-> 1574\u001b[0m     result \u001b[38;5;241m=\u001b[39m \u001b[43mDataFrame\u001b[49m\u001b[38;5;241;43m.\u001b[39;49m\u001b[43mmerge\u001b[49m\u001b[43m(\u001b[49m\u001b[38;5;28;43mself\u001b[39;49m\u001b[43m,\u001b[49m\u001b[43m \u001b[49m\u001b[38;5;241;43m*\u001b[39;49m\u001b[43margs\u001b[49m\u001b[43m,\u001b[49m\u001b[43m \u001b[49m\u001b[38;5;241;43m*\u001b[39;49m\u001b[38;5;241;43m*\u001b[39;49m\u001b[43mkwargs\u001b[49m\u001b[43m)\u001b[49m\n\u001b[1;32m   1575\u001b[0m     geo_col \u001b[38;5;241m=\u001b[39m \u001b[38;5;28mself\u001b[39m\u001b[38;5;241m.\u001b[39m_geometry_column_name\n\u001b[1;32m   1576\u001b[0m     \u001b[38;5;28;01mif\u001b[39;00m \u001b[38;5;28misinstance\u001b[39m(result, DataFrame) \u001b[38;5;129;01mand\u001b[39;00m geo_col \u001b[38;5;129;01min\u001b[39;00m result:\n",
      "File \u001b[0;32m/opt/conda/lib/python3.11/site-packages/pandas/core/frame.py:10487\u001b[0m, in \u001b[0;36mDataFrame.merge\u001b[0;34m(self, right, how, on, left_on, right_on, left_index, right_index, sort, suffixes, copy, indicator, validate)\u001b[0m\n\u001b[1;32m  10468\u001b[0m \u001b[38;5;129m@Substitution\u001b[39m(\u001b[38;5;124m\"\u001b[39m\u001b[38;5;124m\"\u001b[39m)\n\u001b[1;32m  10469\u001b[0m \u001b[38;5;129m@Appender\u001b[39m(_merge_doc, indents\u001b[38;5;241m=\u001b[39m\u001b[38;5;241m2\u001b[39m)\n\u001b[1;32m  10470\u001b[0m \u001b[38;5;28;01mdef\u001b[39;00m \u001b[38;5;21mmerge\u001b[39m(\n\u001b[0;32m   (...)\u001b[0m\n\u001b[1;32m  10483\u001b[0m     validate: MergeValidate \u001b[38;5;241m|\u001b[39m \u001b[38;5;28;01mNone\u001b[39;00m \u001b[38;5;241m=\u001b[39m \u001b[38;5;28;01mNone\u001b[39;00m,\n\u001b[1;32m  10484\u001b[0m ) \u001b[38;5;241m-\u001b[39m\u001b[38;5;241m>\u001b[39m DataFrame:\n\u001b[1;32m  10485\u001b[0m     \u001b[38;5;28;01mfrom\u001b[39;00m \u001b[38;5;21;01mpandas\u001b[39;00m\u001b[38;5;21;01m.\u001b[39;00m\u001b[38;5;21;01mcore\u001b[39;00m\u001b[38;5;21;01m.\u001b[39;00m\u001b[38;5;21;01mreshape\u001b[39;00m\u001b[38;5;21;01m.\u001b[39;00m\u001b[38;5;21;01mmerge\u001b[39;00m \u001b[38;5;28;01mimport\u001b[39;00m merge\n\u001b[0;32m> 10487\u001b[0m     \u001b[38;5;28;01mreturn\u001b[39;00m \u001b[43mmerge\u001b[49m\u001b[43m(\u001b[49m\n\u001b[1;32m  10488\u001b[0m \u001b[43m        \u001b[49m\u001b[38;5;28;43mself\u001b[39;49m\u001b[43m,\u001b[49m\n\u001b[1;32m  10489\u001b[0m \u001b[43m        \u001b[49m\u001b[43mright\u001b[49m\u001b[43m,\u001b[49m\n\u001b[1;32m  10490\u001b[0m \u001b[43m        \u001b[49m\u001b[43mhow\u001b[49m\u001b[38;5;241;43m=\u001b[39;49m\u001b[43mhow\u001b[49m\u001b[43m,\u001b[49m\n\u001b[1;32m  10491\u001b[0m \u001b[43m        \u001b[49m\u001b[43mon\u001b[49m\u001b[38;5;241;43m=\u001b[39;49m\u001b[43mon\u001b[49m\u001b[43m,\u001b[49m\n\u001b[1;32m  10492\u001b[0m \u001b[43m        \u001b[49m\u001b[43mleft_on\u001b[49m\u001b[38;5;241;43m=\u001b[39;49m\u001b[43mleft_on\u001b[49m\u001b[43m,\u001b[49m\n\u001b[1;32m  10493\u001b[0m \u001b[43m        \u001b[49m\u001b[43mright_on\u001b[49m\u001b[38;5;241;43m=\u001b[39;49m\u001b[43mright_on\u001b[49m\u001b[43m,\u001b[49m\n\u001b[1;32m  10494\u001b[0m \u001b[43m        \u001b[49m\u001b[43mleft_index\u001b[49m\u001b[38;5;241;43m=\u001b[39;49m\u001b[43mleft_index\u001b[49m\u001b[43m,\u001b[49m\n\u001b[1;32m  10495\u001b[0m \u001b[43m        \u001b[49m\u001b[43mright_index\u001b[49m\u001b[38;5;241;43m=\u001b[39;49m\u001b[43mright_index\u001b[49m\u001b[43m,\u001b[49m\n\u001b[1;32m  10496\u001b[0m \u001b[43m        \u001b[49m\u001b[43msort\u001b[49m\u001b[38;5;241;43m=\u001b[39;49m\u001b[43msort\u001b[49m\u001b[43m,\u001b[49m\n\u001b[1;32m  10497\u001b[0m \u001b[43m        \u001b[49m\u001b[43msuffixes\u001b[49m\u001b[38;5;241;43m=\u001b[39;49m\u001b[43msuffixes\u001b[49m\u001b[43m,\u001b[49m\n\u001b[1;32m  10498\u001b[0m \u001b[43m        \u001b[49m\u001b[43mcopy\u001b[49m\u001b[38;5;241;43m=\u001b[39;49m\u001b[43mcopy\u001b[49m\u001b[43m,\u001b[49m\n\u001b[1;32m  10499\u001b[0m \u001b[43m        \u001b[49m\u001b[43mindicator\u001b[49m\u001b[38;5;241;43m=\u001b[39;49m\u001b[43mindicator\u001b[49m\u001b[43m,\u001b[49m\n\u001b[1;32m  10500\u001b[0m \u001b[43m        \u001b[49m\u001b[43mvalidate\u001b[49m\u001b[38;5;241;43m=\u001b[39;49m\u001b[43mvalidate\u001b[49m\u001b[43m,\u001b[49m\n\u001b[1;32m  10501\u001b[0m \u001b[43m    \u001b[49m\u001b[43m)\u001b[49m\n",
      "File \u001b[0;32m/opt/conda/lib/python3.11/site-packages/pandas/core/reshape/merge.py:169\u001b[0m, in \u001b[0;36mmerge\u001b[0;34m(left, right, how, on, left_on, right_on, left_index, right_index, sort, suffixes, copy, indicator, validate)\u001b[0m\n\u001b[1;32m    154\u001b[0m     \u001b[38;5;28;01mreturn\u001b[39;00m _cross_merge(\n\u001b[1;32m    155\u001b[0m         left_df,\n\u001b[1;32m    156\u001b[0m         right_df,\n\u001b[0;32m   (...)\u001b[0m\n\u001b[1;32m    166\u001b[0m         copy\u001b[38;5;241m=\u001b[39mcopy,\n\u001b[1;32m    167\u001b[0m     )\n\u001b[1;32m    168\u001b[0m \u001b[38;5;28;01melse\u001b[39;00m:\n\u001b[0;32m--> 169\u001b[0m     op \u001b[38;5;241m=\u001b[39m \u001b[43m_MergeOperation\u001b[49m\u001b[43m(\u001b[49m\n\u001b[1;32m    170\u001b[0m \u001b[43m        \u001b[49m\u001b[43mleft_df\u001b[49m\u001b[43m,\u001b[49m\n\u001b[1;32m    171\u001b[0m \u001b[43m        \u001b[49m\u001b[43mright_df\u001b[49m\u001b[43m,\u001b[49m\n\u001b[1;32m    172\u001b[0m \u001b[43m        \u001b[49m\u001b[43mhow\u001b[49m\u001b[38;5;241;43m=\u001b[39;49m\u001b[43mhow\u001b[49m\u001b[43m,\u001b[49m\n\u001b[1;32m    173\u001b[0m \u001b[43m        \u001b[49m\u001b[43mon\u001b[49m\u001b[38;5;241;43m=\u001b[39;49m\u001b[43mon\u001b[49m\u001b[43m,\u001b[49m\n\u001b[1;32m    174\u001b[0m \u001b[43m        \u001b[49m\u001b[43mleft_on\u001b[49m\u001b[38;5;241;43m=\u001b[39;49m\u001b[43mleft_on\u001b[49m\u001b[43m,\u001b[49m\n\u001b[1;32m    175\u001b[0m \u001b[43m        \u001b[49m\u001b[43mright_on\u001b[49m\u001b[38;5;241;43m=\u001b[39;49m\u001b[43mright_on\u001b[49m\u001b[43m,\u001b[49m\n\u001b[1;32m    176\u001b[0m \u001b[43m        \u001b[49m\u001b[43mleft_index\u001b[49m\u001b[38;5;241;43m=\u001b[39;49m\u001b[43mleft_index\u001b[49m\u001b[43m,\u001b[49m\n\u001b[1;32m    177\u001b[0m \u001b[43m        \u001b[49m\u001b[43mright_index\u001b[49m\u001b[38;5;241;43m=\u001b[39;49m\u001b[43mright_index\u001b[49m\u001b[43m,\u001b[49m\n\u001b[1;32m    178\u001b[0m \u001b[43m        \u001b[49m\u001b[43msort\u001b[49m\u001b[38;5;241;43m=\u001b[39;49m\u001b[43msort\u001b[49m\u001b[43m,\u001b[49m\n\u001b[1;32m    179\u001b[0m \u001b[43m        \u001b[49m\u001b[43msuffixes\u001b[49m\u001b[38;5;241;43m=\u001b[39;49m\u001b[43msuffixes\u001b[49m\u001b[43m,\u001b[49m\n\u001b[1;32m    180\u001b[0m \u001b[43m        \u001b[49m\u001b[43mindicator\u001b[49m\u001b[38;5;241;43m=\u001b[39;49m\u001b[43mindicator\u001b[49m\u001b[43m,\u001b[49m\n\u001b[1;32m    181\u001b[0m \u001b[43m        \u001b[49m\u001b[43mvalidate\u001b[49m\u001b[38;5;241;43m=\u001b[39;49m\u001b[43mvalidate\u001b[49m\u001b[43m,\u001b[49m\n\u001b[1;32m    182\u001b[0m \u001b[43m    \u001b[49m\u001b[43m)\u001b[49m\n\u001b[1;32m    183\u001b[0m     \u001b[38;5;28;01mreturn\u001b[39;00m op\u001b[38;5;241m.\u001b[39mget_result(copy\u001b[38;5;241m=\u001b[39mcopy)\n",
      "File \u001b[0;32m/opt/conda/lib/python3.11/site-packages/pandas/core/reshape/merge.py:804\u001b[0m, in \u001b[0;36m_MergeOperation.__init__\u001b[0;34m(self, left, right, how, on, left_on, right_on, left_index, right_index, sort, suffixes, indicator, validate)\u001b[0m\n\u001b[1;32m    800\u001b[0m \u001b[38;5;28mself\u001b[39m\u001b[38;5;241m.\u001b[39m_validate_tolerance(\u001b[38;5;28mself\u001b[39m\u001b[38;5;241m.\u001b[39mleft_join_keys)\n\u001b[1;32m    802\u001b[0m \u001b[38;5;66;03m# validate the merge keys dtypes. We may need to coerce\u001b[39;00m\n\u001b[1;32m    803\u001b[0m \u001b[38;5;66;03m# to avoid incompatible dtypes\u001b[39;00m\n\u001b[0;32m--> 804\u001b[0m \u001b[38;5;28;43mself\u001b[39;49m\u001b[38;5;241;43m.\u001b[39;49m\u001b[43m_maybe_coerce_merge_keys\u001b[49m\u001b[43m(\u001b[49m\u001b[43m)\u001b[49m\n\u001b[1;32m    806\u001b[0m \u001b[38;5;66;03m# If argument passed to validate,\u001b[39;00m\n\u001b[1;32m    807\u001b[0m \u001b[38;5;66;03m# check if columns specified as unique\u001b[39;00m\n\u001b[1;32m    808\u001b[0m \u001b[38;5;66;03m# are in fact unique.\u001b[39;00m\n\u001b[1;32m    809\u001b[0m \u001b[38;5;28;01mif\u001b[39;00m validate \u001b[38;5;129;01mis\u001b[39;00m \u001b[38;5;129;01mnot\u001b[39;00m \u001b[38;5;28;01mNone\u001b[39;00m:\n",
      "File \u001b[0;32m/opt/conda/lib/python3.11/site-packages/pandas/core/reshape/merge.py:1479\u001b[0m, in \u001b[0;36m_MergeOperation._maybe_coerce_merge_keys\u001b[0;34m(self)\u001b[0m\n\u001b[1;32m   1473\u001b[0m     \u001b[38;5;66;03m# unless we are merging non-string-like with string-like\u001b[39;00m\n\u001b[1;32m   1474\u001b[0m     \u001b[38;5;28;01melif\u001b[39;00m (\n\u001b[1;32m   1475\u001b[0m         inferred_left \u001b[38;5;129;01min\u001b[39;00m string_types \u001b[38;5;129;01mand\u001b[39;00m inferred_right \u001b[38;5;129;01mnot\u001b[39;00m \u001b[38;5;129;01min\u001b[39;00m string_types\n\u001b[1;32m   1476\u001b[0m     ) \u001b[38;5;129;01mor\u001b[39;00m (\n\u001b[1;32m   1477\u001b[0m         inferred_right \u001b[38;5;129;01min\u001b[39;00m string_types \u001b[38;5;129;01mand\u001b[39;00m inferred_left \u001b[38;5;129;01mnot\u001b[39;00m \u001b[38;5;129;01min\u001b[39;00m string_types\n\u001b[1;32m   1478\u001b[0m     ):\n\u001b[0;32m-> 1479\u001b[0m         \u001b[38;5;28;01mraise\u001b[39;00m \u001b[38;5;167;01mValueError\u001b[39;00m(msg)\n\u001b[1;32m   1481\u001b[0m \u001b[38;5;66;03m# datetimelikes must match exactly\u001b[39;00m\n\u001b[1;32m   1482\u001b[0m \u001b[38;5;28;01melif\u001b[39;00m needs_i8_conversion(lk\u001b[38;5;241m.\u001b[39mdtype) \u001b[38;5;129;01mand\u001b[39;00m \u001b[38;5;129;01mnot\u001b[39;00m needs_i8_conversion(rk\u001b[38;5;241m.\u001b[39mdtype):\n",
      "\u001b[0;31mValueError\u001b[0m: You are trying to merge on object and int64 columns for key 'FIPS'. If you wish to proceed you should use pd.concat"
     ]
    }
   ],
   "source": [
    "tracts_race=tracts.merge(df2,on=\"FIPS\")"
   ]
  },
  {
   "cell_type": "code",
   "execution_count": null,
   "id": "8a8bdb7b-e6cf-4a6b-884d-4325e5c925bd",
   "metadata": {},
   "outputs": [],
   "source": [
    "tracts_race.head()"
   ]
  },
  {
   "cell_type": "markdown",
   "id": "ed3338bd-ace5-4c93-9ef0-f2fdc9eb23c3",
   "metadata": {},
   "source": [
    "##### Let's map the Black population in Los Angeles using a heatmap. Let's also import the list of colors we can choose and use."
   ]
  },
  {
   "cell_type": "code",
   "execution_count": null,
   "id": "a64011b5-0d46-4561-85d3-ec23638c855e",
   "metadata": {},
   "outputs": [],
   "source": [
    "from matplotlib import colormaps\n",
    "list(colormaps)"
   ]
  },
  {
   "cell_type": "code",
   "execution_count": null,
   "id": "f9a3aa53-cd52-453f-9e64-a32be39619ae",
   "metadata": {},
   "outputs": [],
   "source": [
    "tracts_race.plot(figsize=(10,14),\n",
    "                 column='Non Hispanic Black Alone',\n",
    "                 legend=True, \n",
    "                 scheme='NaturalBreaks',\n",
    "                cmap= 'winter')"
   ]
  },
  {
   "cell_type": "markdown",
   "id": "92a48131-06fa-49dd-ac24-94414783f156",
   "metadata": {},
   "source": [
    "##### We see a large community of Black folks are in the South central part of Los Angeles county, as well as the Northern part."
   ]
  },
  {
   "cell_type": "markdown",
   "id": "d46c7a17-5b42-4ea2-9382-d3afba74776e",
   "metadata": {},
   "source": [
    "##### Let's map the Latinx/Hispanic population in LA."
   ]
  },
  {
   "cell_type": "code",
   "execution_count": null,
   "id": "c75e6298-5735-43ad-8c25-60d1285292b5",
   "metadata": {},
   "outputs": [],
   "source": [
    "tracts_race.plot(figsize=(14,10),\n",
    "                 column='Hispanic',\n",
    "                 legend=True, \n",
    "                 scheme='NaturalBreaks',\n",
    "                cmap= 'Pastel1')"
   ]
  },
  {
   "cell_type": "markdown",
   "id": "72ec6f0b-d33d-430d-b857-6df53848ecd6",
   "metadata": {},
   "source": [
    "##### Latinx populations are more spread throughout Los Angeles, but there is definitely concentrations in the South central/Eastern part of LA County. Let's map the Native American/Alaska Native population."
   ]
  },
  {
   "cell_type": "code",
   "execution_count": null,
   "id": "67d1c7e0-57eb-4c97-8675-fbb1587402f9",
   "metadata": {},
   "outputs": [],
   "source": [
    "tracts_race.plot(figsize=(10,14),\n",
    "                 column='Non Hispanic American Indian and Alaska Native Alone',\n",
    "                 legend=True, \n",
    "                 scheme='NaturalBreaks',\n",
    "                cmap= 'summer')\n"
   ]
  },
  {
   "cell_type": "markdown",
   "id": "76bee86f-5c2b-4353-b3c8-6c4e2d273e46",
   "metadata": {},
   "source": [
    "##### These populations are also found more sparsely throughout Los Angeles county, with a big population in Western LA County. Let's also map the Asian population in Los Angeles."
   ]
  },
  {
   "cell_type": "code",
   "execution_count": null,
   "id": "8642c768-0555-4613-8116-e462ec44f188",
   "metadata": {},
   "outputs": [],
   "source": [
    "tracts_race.plot(figsize=(10,14),\n",
    "                 column='Non Hispanic Asian Alone',\n",
    "                 legend=True, \n",
    "                 scheme='NaturalBreaks',\n",
    "                cmap= 'afmhot')\n"
   ]
  },
  {
   "cell_type": "markdown",
   "id": "18708062-e993-41a8-8431-87b7c02b83a0",
   "metadata": {},
   "source": [
    "##### Asians populations are not as spread out through LA but we see a band through the middle of LA county with the Asian population, concentrations again towards the East side of the map. Lastly, lets map the white populations."
   ]
  },
  {
   "cell_type": "code",
   "execution_count": null,
   "id": "d0792116-6c90-4b7f-9d00-75fd6daa54aa",
   "metadata": {},
   "outputs": [],
   "source": [
    "tracts_race.plot(figsize=(10,14),\n",
    "                 column='Non Hispanic White Alone',\n",
    "                 legend=True, \n",
    "                 scheme='NaturalBreaks',\n",
    "                cmap= 'spring')"
   ]
  },
  {
   "cell_type": "markdown",
   "id": "2104a3db-a2e8-47cc-978d-b22b9bab282b",
   "metadata": {},
   "source": [
    "##### White folks are also not spreadthroughout LA county -- rather high populations are found in the Western coastal sections of the county.\n",
    "##### With that map, we have established the spread of some of the larger racial ethnic populations in LA county, which concludes my data exploration. "
   ]
  }
 ],
 "metadata": {
  "kernelspec": {
   "display_name": "Python 3 (ipykernel)",
   "language": "python",
   "name": "python3"
  },
  "language_info": {
   "codemirror_mode": {
    "name": "ipython",
    "version": 3
   },
   "file_extension": ".py",
   "mimetype": "text/x-python",
   "name": "python",
   "nbconvert_exporter": "python",
   "pygments_lexer": "ipython3",
   "version": "3.11.7"
  }
 },
 "nbformat": 4,
 "nbformat_minor": 5
}
